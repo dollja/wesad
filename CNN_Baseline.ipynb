{
 "cells": [
  {
   "cell_type": "code",
   "execution_count": 3,
   "metadata": {},
   "outputs": [],
   "source": [
    "import pandas as pd\n",
    "import numpy as np\n",
    "from scipy import stats\n",
    "from sklearn.preprocessing import StandardScaler\n",
    "from keras.layers import Input, Dense, Flatten, Reshape, BatchNormalization\n",
    "from keras.layers import Conv1D, UpSampling1D, MaxPooling1D, AveragePooling1D\n",
    "from keras.models import Model, Sequential\n",
    "from keras.layers import ELU, PReLU, LeakyReLU, ReLU\n",
    "from keras.optimizers import RMSprop\n",
    "import tensorflow as tf\n",
    "\n",
    "\n",
    "C_PATH = \"data/merged_chest_fltr.pkl\"\n",
    "W1_PATH = \"data/subj_merged_bvp_w.pkl\"\n",
    "W2_PATH = \"data/subj_merged_eda_temp_w.pkl\"\n",
    "feat_sf700 = ['ecg', 'emg', 'eda', 'temp', 'resp']\n",
    "feat_sf64 = ['bvp']\n",
    "feat_sf4 = ['w_eda', 'w_temp']\n",
    "feat_all = ['ecg', 'emg', 'c_eda', 'c_temp', 'resp', 'bvp', 'w_eda', 'w_temp']\n",
    "sf_chest = 700 #sampling frequency for measurements collected from chest device\n",
    "sf_BVP = 64\n",
    "sf_EDA = 4\n",
    "sf_TEMP = 4\n",
    "\n",
    "window = 0.25 # sampling window\n"
   ]
  },
  {
   "cell_type": "code",
   "execution_count": 2,
   "metadata": {},
   "outputs": [],
   "source": [
    "from sklearn.metrics import accuracy_score, f1_score"
   ]
  },
  {
   "cell_type": "code",
   "execution_count": 3,
   "metadata": {},
   "outputs": [],
   "source": [
    "df = pd.read_pickle('subj_merged.pkl')\n",
    "df.columns\n",
    "#feat_list = [ 'ecg', 'emg', 'c_eda', 'c_temp', 'resp', 'bvp', 'w_eda', 'w_temp']\n",
    "#feat_list = [ 'ecg', 'emg', 'c_eda', 'c_temp', 'resp']\n",
    "feat_list = ['bvp', 'w_eda', 'w_temp']\n",
    "df = df[df[\"c_temp\"]>0]\n",
    "df = df[df[\"label\"].isin([1,2,3])]"
   ]
  },
  {
   "cell_type": "code",
   "execution_count": 23,
   "metadata": {},
   "outputs": [],
   "source": [
    "class cnn_model:\n",
    "    def __init__(self, **kwargs):\n",
    "        self.df_c = pd.read_pickle(C_PATH)\n",
    "        self.df_w1 = pd.read_pickle(W1_PATH)\n",
    "        self.df_w2 = pd.read_pickle(W2_PATH)\n",
    "        self.df_w1 = self.df_w1[self.df_w1[\"label\"].isin([1,2,3])]\n",
    "        self.df_w2 = self.df_w2[self.df_w2[\"label\"].isin([1,2,3])]\n",
    "        \n",
    "        self.batch_size = int(sf_chest*window) \n",
    "        self.batch_size_bvp =  int(sf_BVP*window) \n",
    "        self.batch_size_eda =  int(sf_EDA*window) \n",
    "        self.batch_size_temp =  int(sf_TEMP*window) \n",
    "\n",
    "        self.ids = self.df_c[\"sid\"].unique().astype(int)\n",
    "        self.K = len(self.df_c[\"label\"].unique())\n",
    "        \n",
    "    def one_hot_enc(self, r, k):\n",
    "        new_r = np.zeros((r.shape[0],k))\n",
    "        for i, val in enumerate(r):\n",
    "            new_r[i, val-1] = 1\n",
    "\n",
    "        return new_r\n",
    "    \n",
    "    def get_data(self, test_id, v_batch_size, v_feat_list, df):\n",
    "        \n",
    "        cnt=0\n",
    "        \n",
    "        for j in self.ids:\n",
    "            df_s = df[df[\"sid\"] == j]\n",
    "\n",
    "            n = (len(df_s)//v_batch_size)*v_batch_size\n",
    "            df_s = df_s[:n]\n",
    "            s = StandardScaler().fit_transform(df_s[v_feat_list])\n",
    "            s = s.reshape(int(s.shape[0]/v_batch_size), s.shape[1],  v_batch_size)\n",
    "\n",
    "            lbl_m = np.zeros((s.shape[0],1))\n",
    "            lbl = df_s[\"label\"].values.astype(int)\n",
    "            for i in range(s.shape[0]):\n",
    "                lbl_m[i] = int((stats.mode(lbl[i * v_batch_size : (i + 1) * v_batch_size - 1]))[0].squeeze())\n",
    "            y_k = lbl_m.astype(int)\n",
    "            s_y = self.one_hot_enc(lbl_m.astype(int), self.K).astype(int)\n",
    "            #print(\"subject \", j)\n",
    "            #print(s.shape, s_y.shape)\n",
    "            if j==test_id:\n",
    "                x_test = s\n",
    "                y_test = s_y\n",
    "                yk_test = y_k\n",
    "            else:\n",
    "                if cnt:\n",
    "                    merged = np.concatenate((merged, s), axis=0)\n",
    "                    merged_y = np.concatenate((merged_y, s_y), axis=0)\n",
    "                    merged_yk = np.concatenate((merged_yk, y_k), axis=0)\n",
    "                else:\n",
    "                    merged = s\n",
    "                    merged_y = s_y\n",
    "                    merged_yk = y_k\n",
    "                cnt +=1\n",
    "\n",
    "\n",
    "        print (\"merged train:\", merged.shape, merged_y.shape)\n",
    "        print (\"merged test :\", x_test.shape, y_test.shape)\n",
    "        return merged, merged_y, x_test, y_test, merged_yk, yk_test\n",
    "\n",
    "    # train and store autoencoder model for chest modalities\n",
    "    def train_model_c(self):   \n",
    "        # leave one out method\n",
    "        scores = []\n",
    "\n",
    "        for sid in self.ids:\n",
    "            x_train, y_train, x_test, y_test, yk, yk_test = self.get_data (test_id =sid, \n",
    "                                                                       v_batch_size=sf_chest, \n",
    "                                                                       v_feat_list=feat_sf700, \n",
    "                                                                       df=self.df_c)\n",
    "\n",
    "            model = self.cnn_model_chest(v_batch_size=sf_chest, n_feat=len(feat_sf700))\n",
    "            model.compile(optimizer=RMSprop(lr=0.00025), loss=\"categorical_crossentropy\")\n",
    "            history = model.fit(x_train, y_train, epochs=10)\n",
    "            m_name = \"trained_models/c/cnn_loso\"+str(sid)+\".h5\"\n",
    "\n",
    "            model.save(m_name)\n",
    "            print(\"saved \", m_name)\n",
    "            \n",
    "\n",
    "\n",
    "    def train_model_all(self, v_df):   \n",
    "            # leave one out method\n",
    "            scores = []\n",
    "\n",
    "            for sid in self.ids:\n",
    "                x_train, y_train, x_test, y_test, yk, yk_test = self.get_data (test_id =sid, \n",
    "                                                                           v_batch_size=4, \n",
    "                                                                           v_feat_list=feat_all, \n",
    "                                                                           df=v_df)\n",
    "\n",
    "                model = self.cnn_model_all(v_batch_size=4, n_feat=len(feat_all))\n",
    "                model.compile(optimizer=RMSprop(lr=0.00025), loss=\"categorical_crossentropy\")\n",
    "                history = model.fit(x_train, y_train, epochs=10)\n",
    "                m_name = \"trained_models/c/cnn_all_loso\"+str(sid)+\".h5\"\n",
    "\n",
    "                model.save(m_name)\n",
    "                print(\"saved \", m_name)\n",
    "            \n",
    "            \n",
    "    def cnn_model_w1(self, v_batch_size, n_feat):\n",
    "    \n",
    "        input_sig = Input(shape=(n_feat, v_batch_size))\n",
    "        x = Conv1D(v_batch_size,6, activation='relu', padding='same')(input_sig)\n",
    "        x1 = BatchNormalization()(x)\n",
    "        x2 = Conv1D(v_batch_size,3, activation='relu', padding='same')(x1)\n",
    "        flat = Flatten()(x2)\n",
    "\n",
    "        encoded = Dense(40, activation='relu')(flat)\n",
    "        cls = Dense(3, activation='softmax')(encoded)\n",
    "\n",
    "        model= Model(input_sig, cls)\n",
    "\n",
    "        return model\n",
    "    \n",
    "    def cnn_model_w2(self, v_batch_size, n_feat):\n",
    "        \n",
    "        input_sig = Input(shape=(n_feat, v_batch_size))\n",
    "        x = Conv1D(v_batch_size,4, activation='relu', padding='same')(input_sig)\n",
    "\n",
    "        x1 = BatchNormalization()(x)\n",
    "        flat = Flatten()(x1)\n",
    "        encoded = Dense(4, activation='relu')(flat)\n",
    "        cls = Dense(3, activation='softmax')(encoded)\n",
    "\n",
    "        model= Model(input_sig, cls)\n",
    "\n",
    "        return model   \n",
    "    \n",
    "    def cnn_model_chest(self, v_batch_size, n_feat):\n",
    "    \n",
    "        input_sig = Input(shape=(n_feat, v_batch_size))\n",
    "        x = Conv1D(v_batch_size,6, activation='relu', padding='same')(input_sig)\n",
    "\n",
    "        x1 = BatchNormalization()(x)\n",
    "        x2 = Conv1D(v_batch_size,3, activation='relu', padding='same')(x1)\n",
    "        flat = Flatten()(x2)\n",
    "        \n",
    "        encoded = Dense(80, activation='relu')(flat)\n",
    "        cls = Dense(3, activation='softmax')(encoded)\n",
    "\n",
    "        model= Model(input_sig, cls)\n",
    "\n",
    "        return model\n",
    "    \n",
    "    def cnn_model_all(self, v_batch_size, n_feat):\n",
    "    \n",
    "        input_sig = Input(shape=(n_feat, v_batch_size))\n",
    "        x = Conv1D(v_batch_size,6, activation='relu', padding='same')(input_sig)\n",
    "\n",
    "        x1 = BatchNormalization()(x)\n",
    "        x2 = Conv1D(v_batch_size,3, activation='relu', padding='same')(x1)\n",
    "        flat = Flatten()(x2)\n",
    "        \n",
    "        encoded = Dense(100, activation='relu')(flat)\n",
    "        cls = Dense(3, activation='softmax')(encoded)\n",
    "\n",
    "        model= Model(input_sig, cls)\n",
    "\n",
    "        return model    \n",
    "    \n",
    "    def test_model (self, v_df):\n",
    "        scores_c = []\n",
    "        scores_w1 = []\n",
    "        scores_w2 = []\n",
    "        scores_a = []\n",
    "        \n",
    "        for sid in self.ids:\n",
    "            print(\"============= test subject \" +str(sid)+ \" ==================\")\n",
    "            x_train, y_train, x_test, y_test, yk, yk_test = self.get_data (test_id = sid,\n",
    "                                                                           v_batch_size=sf_chest,\n",
    "                                                                           v_feat_list=feat_sf700, \n",
    "                                                                           df=self.df_c)\n",
    "            x_trainw1, y_trainw1, x_testw1, y_testw1, yk1w1, yk_test1w1 = self.get_data (test_id = sid,\n",
    "                                                                           v_batch_size=sf_BVP,\n",
    "                                                                           v_feat_list=feat_sf64, \n",
    "                                                                           df=self.df_w1)\n",
    "            x_trainw2, y_trainw2, x_testw2, y_testw2, yk2w2, yk_test2w2 = self.get_data (test_id = sid,\n",
    "                                                                           v_batch_size=sf_EDA,\n",
    "                                                                           v_feat_list=feat_sf4, \n",
    "                                                                           df=self.df_w2)\n",
    "\n",
    "           \n",
    "            x_train_a, y_train_a, x_test_a, y_test_a, yk_a, yk_test_a = self.get_data (test_id =sid, \n",
    "                                                                           v_batch_size=4, \n",
    "                                                                           v_feat_list=feat_all, \n",
    "                                                                           df=v_df)\n",
    "            \n",
    "            modelw1 = self.cnn_model_w1(v_batch_size=sf_BVP, n_feat=len(feat_sf64))\n",
    "            modelw1.compile(optimizer=RMSprop(lr=0.00025), loss=\"categorical_crossentropy\")\n",
    "            history = modelw1.fit(x_trainw1, y_trainw1, epochs=4)\n",
    "\n",
    "            pred_trainw1 = modelw1.predict(x_trainw1)\n",
    "            pred_testw1 = modelw1.predict(x_testw1)\n",
    "            \n",
    "            print(\"pred_trainw1.shape: \", pred_trainw1.shape)\n",
    "            print(\"pred_testw1.shape: \", pred_testw1.shape)\n",
    "            print(\"y_testw1.shape: \", y_testw1.shape)\n",
    "            \n",
    "            acc_w1 = accuracy_score(np.argmax(y_testw1, axis=1), np.argmax(pred_testw1, axis=1))\n",
    "            f1_w1 = f1_score(np.argmax(y_testw1, axis=1), np.argmax(pred_testw1, axis=1), average='weighted')\n",
    "            \n",
    "\n",
    "            modelw2 = self.cnn_model_w2(v_batch_size=sf_EDA, n_feat=len(feat_sf4))\n",
    "            modelw2.compile(optimizer=RMSprop(lr=0.00025), loss=\"categorical_crossentropy\")\n",
    "            history = modelw2.fit(x_trainw2, y_trainw2, epochs=4)\n",
    "\n",
    "            pred_trainw2 = modelw2.predict(x_trainw2)\n",
    "            pred_testw2 = modelw2.predict(x_testw2)\n",
    "            acc_w2 = accuracy_score(np.argmax(y_testw2, axis=1), np.argmax(pred_testw2, axis=1))\n",
    "            f1_w2 = f1_score(np.argmax(y_testw2, axis=1), np.argmax(pred_testw2, axis=1), average='weighted')\n",
    "\n",
    "            m_name = \"trained_models/c/cnn_loso\"+str(sid)+\".h5\"\n",
    "            cnn_m = tf.keras.models.load_model(m_name)\n",
    "            print(\"loaded: \", m_name)\n",
    "\n",
    "            pred_train = cnn_m.predict(x_train)\n",
    "            pred_test = cnn_m.predict(x_test)\n",
    "            acc_c = accuracy_score(np.argmax(y_test, axis=1), np.argmax(pred_test, axis=1))\n",
    "            f1_c = f1_score(np.argmax(y_test, axis=1), np.argmax(pred_test, axis=1), average='weighted')\n",
    "\n",
    "\n",
    "           \n",
    "            print(\"pred_trainw2.shape: \", pred_trainw2.shape)\n",
    "            print(\"pred_train.shape: \", pred_train.shape)\n",
    "\n",
    "            print(\"pred_testw2.shape: \", pred_testw2.shape)\n",
    "            print(\"pred_test.shape: \", pred_test.shape)\n",
    "            \n",
    "            #cm = confusion_matrix(y_test, pred_test)\n",
    "\n",
    "            print(\"subject \", sid)\n",
    "            print(\"chest accuracy: \", acc_c)\n",
    "            print(\"chest f1 score: \", f1_c)\n",
    "            print(\"\")\n",
    "            \n",
    "            m_name = \"trained_models/c/cnn_all_loso\"+str(sid)+\".h5\"\n",
    "            cnn_m2 = tf.keras.models.load_model(m_name)\n",
    "            print(\"loaded: \", m_name)\n",
    "\n",
    "            pred_train2 = cnn_m2.predict(x_train_a)\n",
    "            pred_test2 = cnn_m2.predict(x_test_a)\n",
    "            acc_a = accuracy_score(np.argmax(y_test_a, axis=1), np.argmax(pred_test2, axis=1))\n",
    "            f1_a = f1_score(np.argmax(y_test_a, axis=1), np.argmax(pred_test2, axis=1), average='weighted')\n",
    "\n",
    "            scores_c.append([sid, acc_c, f1_c])\n",
    "            scores_w1.append([sid, acc_w1, f1_w1])\n",
    "            scores_w2.append([sid, acc_w2, f1_w2])\n",
    "            scores_a.append([sid, acc_a, f1_a])\n",
    "        \n",
    "        return scores_c, scores_w1, scores_w2, scores_a\n"
   ]
  },
  {
   "cell_type": "code",
   "execution_count": 5,
   "metadata": {},
   "outputs": [
    {
     "name": "stdout",
     "output_type": "stream",
     "text": [
      "merged train: (31029, 5, 700) (31029, 3)\n",
      "merged test : (2121, 5, 700) (2121, 3)\n"
     ]
    },
    {
     "name": "stderr",
     "output_type": "stream",
     "text": [
      "C:\\Users\\srovi\\anaconda3\\lib\\site-packages\\tensorflow\\python\\keras\\optimizer_v2\\optimizer_v2.py:374: UserWarning: The `lr` argument is deprecated, use `learning_rate` instead.\n",
      "  warnings.warn(\n"
     ]
    },
    {
     "name": "stdout",
     "output_type": "stream",
     "text": [
      "Epoch 1/10\n",
      "970/970 [==============================] - 141s 131ms/step - loss: 0.4464\n",
      "Epoch 2/10\n",
      "970/970 [==============================] - 127s 131ms/step - loss: 0.3119\n",
      "Epoch 3/10\n",
      "970/970 [==============================] - 128s 132ms/step - loss: 0.2930\n",
      "Epoch 4/10\n",
      "970/970 [==============================] - 123s 127ms/step - loss: 0.2552\n",
      "Epoch 5/10\n",
      "970/970 [==============================] - 122s 126ms/step - loss: 0.2367\n",
      "Epoch 6/10\n",
      "970/970 [==============================] - 126s 130ms/step - loss: 0.2016\n",
      "Epoch 7/10\n",
      "970/970 [==============================] - 125s 129ms/step - loss: 0.1856\n",
      "Epoch 8/10\n",
      "970/970 [==============================] - 122s 126ms/step - loss: 0.1702\n",
      "Epoch 9/10\n",
      "970/970 [==============================] - 123s 127ms/step - loss: 0.1572\n",
      "Epoch 10/10\n",
      "970/970 [==============================] - 124s 127ms/step - loss: 0.1439\n",
      "saved  trained_models/c/cnn_loso2.h5\n",
      "merged train: (30996, 5, 700) (30996, 3)\n",
      "merged test : (2154, 5, 700) (2154, 3)\n"
     ]
    },
    {
     "name": "stderr",
     "output_type": "stream",
     "text": [
      "C:\\Users\\srovi\\anaconda3\\lib\\site-packages\\tensorflow\\python\\keras\\optimizer_v2\\optimizer_v2.py:374: UserWarning: The `lr` argument is deprecated, use `learning_rate` instead.\n",
      "  warnings.warn(\n"
     ]
    },
    {
     "name": "stdout",
     "output_type": "stream",
     "text": [
      "Epoch 1/10\n",
      "969/969 [==============================] - 127s 129ms/step - loss: 0.4626\n",
      "Epoch 2/10\n",
      "969/969 [==============================] - 134s 139ms/step - loss: 0.3027\n",
      "Epoch 3/10\n",
      "969/969 [==============================] - 141s 145ms/step - loss: 0.2708\n",
      "Epoch 4/10\n",
      "969/969 [==============================] - 128s 132ms/step - loss: 0.2332\n",
      "Epoch 5/10\n",
      "969/969 [==============================] - 123s 127ms/step - loss: 0.1976\n",
      "Epoch 6/10\n",
      "969/969 [==============================] - 122s 126ms/step - loss: 0.1717\n",
      "Epoch 7/10\n",
      "969/969 [==============================] - 123s 127ms/step - loss: 0.1546\n",
      "Epoch 8/10\n",
      "969/969 [==============================] - 121s 125ms/step - loss: 0.1493\n",
      "Epoch 9/10\n",
      "969/969 [==============================] - 123s 127ms/step - loss: 0.1257\n",
      "Epoch 10/10\n",
      "969/969 [==============================] - 121s 125ms/step - loss: 0.1231\n",
      "saved  trained_models/c/cnn_loso3.h5\n",
      "merged train: (30985, 5, 700) (30985, 3)\n",
      "merged test : (2165, 5, 700) (2165, 3)\n"
     ]
    },
    {
     "name": "stderr",
     "output_type": "stream",
     "text": [
      "C:\\Users\\srovi\\anaconda3\\lib\\site-packages\\tensorflow\\python\\keras\\optimizer_v2\\optimizer_v2.py:374: UserWarning: The `lr` argument is deprecated, use `learning_rate` instead.\n",
      "  warnings.warn(\n"
     ]
    },
    {
     "name": "stdout",
     "output_type": "stream",
     "text": [
      "Epoch 1/10\n",
      "969/969 [==============================] - 127s 128ms/step - loss: 0.4692\n",
      "Epoch 2/10\n",
      "969/969 [==============================] - 123s 127ms/step - loss: 0.3150\n",
      "Epoch 3/10\n",
      "969/969 [==============================] - 124s 128ms/step - loss: 0.2687\n",
      "Epoch 4/10\n",
      "969/969 [==============================] - 123s 127ms/step - loss: 0.2300\n",
      "Epoch 5/10\n",
      "969/969 [==============================] - 123s 127ms/step - loss: 0.2013\n",
      "Epoch 6/10\n",
      "969/969 [==============================] - 123s 127ms/step - loss: 0.1744\n",
      "Epoch 7/10\n",
      "969/969 [==============================] - 122s 126ms/step - loss: 0.1505\n",
      "Epoch 8/10\n",
      "969/969 [==============================] - 122s 126ms/step - loss: 0.1377\n",
      "Epoch 9/10\n",
      "969/969 [==============================] - 121s 125ms/step - loss: 0.1305\n",
      "Epoch 10/10\n",
      "969/969 [==============================] - 120s 124ms/step - loss: 0.1177\n",
      "saved  trained_models/c/cnn_loso4.h5\n",
      "merged train: (30933, 5, 700) (30933, 3)\n",
      "merged test : (2217, 5, 700) (2217, 3)\n"
     ]
    },
    {
     "name": "stderr",
     "output_type": "stream",
     "text": [
      "C:\\Users\\srovi\\anaconda3\\lib\\site-packages\\tensorflow\\python\\keras\\optimizer_v2\\optimizer_v2.py:374: UserWarning: The `lr` argument is deprecated, use `learning_rate` instead.\n",
      "  warnings.warn(\n"
     ]
    },
    {
     "name": "stdout",
     "output_type": "stream",
     "text": [
      "Epoch 1/10\n",
      "967/967 [==============================] - 125s 127ms/step - loss: 0.4696\n",
      "Epoch 2/10\n",
      "967/967 [==============================] - 123s 127ms/step - loss: 0.3317\n",
      "Epoch 3/10\n",
      "967/967 [==============================] - 123s 127ms/step - loss: 0.2970\n",
      "Epoch 4/10\n",
      "967/967 [==============================] - 124s 128ms/step - loss: 0.2462\n",
      "Epoch 5/10\n",
      "967/967 [==============================] - 122s 126ms/step - loss: 0.2239\n",
      "Epoch 6/10\n",
      "967/967 [==============================] - 121s 125ms/step - loss: 0.1985\n",
      "Epoch 7/10\n",
      "967/967 [==============================] - 120s 124ms/step - loss: 0.1882\n",
      "Epoch 8/10\n",
      "967/967 [==============================] - 120s 124ms/step - loss: 0.1667\n",
      "Epoch 9/10\n",
      "967/967 [==============================] - 121s 125ms/step - loss: 0.1472\n",
      "Epoch 10/10\n",
      "967/967 [==============================] - 120s 124ms/step - loss: 0.1289\n",
      "saved  trained_models/c/cnn_loso5.h5\n",
      "merged train: (30948, 5, 700) (30948, 3)\n",
      "merged test : (2202, 5, 700) (2202, 3)\n"
     ]
    },
    {
     "name": "stderr",
     "output_type": "stream",
     "text": [
      "C:\\Users\\srovi\\anaconda3\\lib\\site-packages\\tensorflow\\python\\keras\\optimizer_v2\\optimizer_v2.py:374: UserWarning: The `lr` argument is deprecated, use `learning_rate` instead.\n",
      "  warnings.warn(\n"
     ]
    },
    {
     "name": "stdout",
     "output_type": "stream",
     "text": [
      "Epoch 1/10\n",
      "968/968 [==============================] - 128s 128ms/step - loss: 0.4755\n",
      "Epoch 2/10\n",
      "968/968 [==============================] - 124s 128ms/step - loss: 0.3190\n",
      "Epoch 3/10\n",
      "968/968 [==============================] - 124s 128ms/step - loss: 0.2826\n",
      "Epoch 4/10\n",
      "968/968 [==============================] - 124s 128ms/step - loss: 0.2391\n",
      "Epoch 5/10\n",
      "968/968 [==============================] - 124s 128ms/step - loss: 0.2085\n",
      "Epoch 6/10\n",
      "968/968 [==============================] - 123s 128ms/step - loss: 0.1808\n",
      "Epoch 7/10\n",
      "968/968 [==============================] - 123s 127ms/step - loss: 0.1603\n",
      "Epoch 8/10\n",
      "968/968 [==============================] - 124s 128ms/step - loss: 0.1544\n",
      "Epoch 9/10\n",
      "968/968 [==============================] - 123s 127ms/step - loss: 0.1401\n",
      "Epoch 10/10\n",
      "968/968 [==============================] - 124s 128ms/step - loss: 0.1357\n",
      "saved  trained_models/c/cnn_loso6.h5\n",
      "merged train: (30952, 5, 700) (30952, 3)\n",
      "merged test : (2198, 5, 700) (2198, 3)\n"
     ]
    },
    {
     "name": "stderr",
     "output_type": "stream",
     "text": [
      "C:\\Users\\srovi\\anaconda3\\lib\\site-packages\\tensorflow\\python\\keras\\optimizer_v2\\optimizer_v2.py:374: UserWarning: The `lr` argument is deprecated, use `learning_rate` instead.\n",
      "  warnings.warn(\n"
     ]
    },
    {
     "name": "stdout",
     "output_type": "stream",
     "text": [
      "Epoch 1/10\n",
      "968/968 [==============================] - 125s 128ms/step - loss: 0.4699\n",
      "Epoch 2/10\n",
      "968/968 [==============================] - 123s 127ms/step - loss: 0.3155\n",
      "Epoch 3/10\n",
      "968/968 [==============================] - 123s 128ms/step - loss: 0.2827\n",
      "Epoch 4/10\n",
      "968/968 [==============================] - 123s 127ms/step - loss: 0.2450\n",
      "Epoch 5/10\n",
      "968/968 [==============================] - 123s 127ms/step - loss: 0.2136\n",
      "Epoch 6/10\n",
      "968/968 [==============================] - 122s 127ms/step - loss: 0.1906\n",
      "Epoch 7/10\n",
      "968/968 [==============================] - 123s 127ms/step - loss: 0.1717\n",
      "Epoch 8/10\n",
      "968/968 [==============================] - 122s 127ms/step - loss: 0.1535\n",
      "Epoch 9/10\n",
      "968/968 [==============================] - 123s 127ms/step - loss: 0.1416\n",
      "Epoch 10/10\n",
      "968/968 [==============================] - 123s 127ms/step - loss: 0.1393\n",
      "saved  trained_models/c/cnn_loso7.h5\n",
      "merged train: (30942, 5, 700) (30942, 3)\n",
      "merged test : (2208, 5, 700) (2208, 3)\n"
     ]
    },
    {
     "name": "stderr",
     "output_type": "stream",
     "text": [
      "C:\\Users\\srovi\\anaconda3\\lib\\site-packages\\tensorflow\\python\\keras\\optimizer_v2\\optimizer_v2.py:374: UserWarning: The `lr` argument is deprecated, use `learning_rate` instead.\n",
      "  warnings.warn(\n"
     ]
    },
    {
     "name": "stdout",
     "output_type": "stream",
     "text": [
      "Epoch 1/10\n",
      "967/967 [==============================] - 124s 127ms/step - loss: 0.4117\n",
      "Epoch 2/10\n",
      "967/967 [==============================] - 123s 127ms/step - loss: 0.2669\n",
      "Epoch 3/10\n",
      "967/967 [==============================] - 123s 127ms/step - loss: 0.2345\n",
      "Epoch 4/10\n",
      "967/967 [==============================] - 124s 128ms/step - loss: 0.2199\n",
      "Epoch 5/10\n",
      "967/967 [==============================] - 123s 127ms/step - loss: 0.1919\n",
      "Epoch 6/10\n",
      "967/967 [==============================] - 122s 127ms/step - loss: 0.1701\n",
      "Epoch 7/10\n",
      "967/967 [==============================] - 123s 127ms/step - loss: 0.1511\n",
      "Epoch 8/10\n",
      "967/967 [==============================] - 123s 127ms/step - loss: 0.1444\n",
      "Epoch 9/10\n",
      "967/967 [==============================] - 122s 127ms/step - loss: 0.1415\n",
      "Epoch 10/10\n",
      "967/967 [==============================] - 122s 127ms/step - loss: 0.1183\n",
      "saved  trained_models/c/cnn_loso8.h5\n",
      "merged train: (30953, 5, 700) (30953, 3)\n",
      "merged test : (2197, 5, 700) (2197, 3)\n"
     ]
    },
    {
     "name": "stderr",
     "output_type": "stream",
     "text": [
      "C:\\Users\\srovi\\anaconda3\\lib\\site-packages\\tensorflow\\python\\keras\\optimizer_v2\\optimizer_v2.py:374: UserWarning: The `lr` argument is deprecated, use `learning_rate` instead.\n",
      "  warnings.warn(\n"
     ]
    },
    {
     "name": "stdout",
     "output_type": "stream",
     "text": [
      "Epoch 1/10\n",
      "968/968 [==============================] - 128s 128ms/step - loss: 0.4892\n",
      "Epoch 2/10\n",
      "968/968 [==============================] - 124s 128ms/step - loss: 0.3172\n",
      "Epoch 3/10\n",
      "968/968 [==============================] - 124s 128ms/step - loss: 0.2770\n",
      "Epoch 4/10\n",
      "968/968 [==============================] - 125s 129ms/step - loss: 0.2360\n",
      "Epoch 5/10\n",
      "968/968 [==============================] - 124s 128ms/step - loss: 0.2059\n",
      "Epoch 6/10\n",
      "968/968 [==============================] - 124s 128ms/step - loss: 0.1753\n",
      "Epoch 7/10\n",
      "968/968 [==============================] - 125s 129ms/step - loss: 0.1558\n",
      "Epoch 8/10\n",
      "968/968 [==============================] - 124s 128ms/step - loss: 0.1421\n",
      "Epoch 9/10\n",
      "968/968 [==============================] - 125s 129ms/step - loss: 0.1393\n",
      "Epoch 10/10\n",
      "968/968 [==============================] - 124s 128ms/step - loss: 0.1137\n",
      "saved  trained_models/c/cnn_loso9.h5\n",
      "merged train: (30873, 5, 700) (30873, 3)\n",
      "merged test : (2277, 5, 700) (2277, 3)\n"
     ]
    },
    {
     "name": "stderr",
     "output_type": "stream",
     "text": [
      "C:\\Users\\srovi\\anaconda3\\lib\\site-packages\\tensorflow\\python\\keras\\optimizer_v2\\optimizer_v2.py:374: UserWarning: The `lr` argument is deprecated, use `learning_rate` instead.\n",
      "  warnings.warn(\n"
     ]
    },
    {
     "name": "stdout",
     "output_type": "stream",
     "text": [
      "Epoch 1/10\n",
      "965/965 [==============================] - 125s 128ms/step - loss: 0.4840\n",
      "Epoch 2/10\n",
      "965/965 [==============================] - 123s 128ms/step - loss: 0.3334\n",
      "Epoch 3/10\n",
      "965/965 [==============================] - 123s 128ms/step - loss: 0.3015\n",
      "Epoch 4/10\n",
      "965/965 [==============================] - 123s 128ms/step - loss: 0.2546\n",
      "Epoch 5/10\n",
      "965/965 [==============================] - 123s 128ms/step - loss: 0.2209\n",
      "Epoch 6/10\n",
      "965/965 [==============================] - 123s 127ms/step - loss: 0.1950\n",
      "Epoch 7/10\n",
      "965/965 [==============================] - 123s 127ms/step - loss: 0.1677\n",
      "Epoch 8/10\n",
      "965/965 [==============================] - 123s 128ms/step - loss: 0.1652\n",
      "Epoch 9/10\n",
      "965/965 [==============================] - 123s 128ms/step - loss: 0.1438\n",
      "Epoch 10/10\n",
      "965/965 [==============================] - 123s 127ms/step - loss: 0.1288\n",
      "saved  trained_models/c/cnn_loso10.h5\n",
      "merged train: (30922, 5, 700) (30922, 3)\n",
      "merged test : (2228, 5, 700) (2228, 3)\n"
     ]
    },
    {
     "name": "stderr",
     "output_type": "stream",
     "text": [
      "C:\\Users\\srovi\\anaconda3\\lib\\site-packages\\tensorflow\\python\\keras\\optimizer_v2\\optimizer_v2.py:374: UserWarning: The `lr` argument is deprecated, use `learning_rate` instead.\n",
      "  warnings.warn(\n"
     ]
    },
    {
     "name": "stdout",
     "output_type": "stream",
     "text": [
      "Epoch 1/10\n",
      "967/967 [==============================] - 125s 127ms/step - loss: 0.5038\n",
      "Epoch 2/10\n",
      "967/967 [==============================] - 123s 127ms/step - loss: 0.3453\n",
      "Epoch 3/10\n",
      "967/967 [==============================] - 123s 127ms/step - loss: 0.3001\n",
      "Epoch 4/10\n",
      "967/967 [==============================] - 122s 127ms/step - loss: 0.2667\n",
      "Epoch 5/10\n",
      "967/967 [==============================] - 122s 127ms/step - loss: 0.2244\n",
      "Epoch 6/10\n",
      "967/967 [==============================] - 122s 127ms/step - loss: 0.2037\n",
      "Epoch 7/10\n",
      "967/967 [==============================] - 123s 127ms/step - loss: 0.1795\n",
      "Epoch 8/10\n",
      "967/967 [==============================] - 123s 127ms/step - loss: 0.1707\n",
      "Epoch 9/10\n",
      "967/967 [==============================] - 122s 127ms/step - loss: 0.1511\n",
      "Epoch 10/10\n",
      "967/967 [==============================] - 122s 127ms/step - loss: 0.1383\n",
      "saved  trained_models/c/cnn_loso11.h5\n",
      "merged train: (30924, 5, 700) (30924, 3)\n",
      "merged test : (2226, 5, 700) (2226, 3)\n"
     ]
    },
    {
     "name": "stderr",
     "output_type": "stream",
     "text": [
      "C:\\Users\\srovi\\anaconda3\\lib\\site-packages\\tensorflow\\python\\keras\\optimizer_v2\\optimizer_v2.py:374: UserWarning: The `lr` argument is deprecated, use `learning_rate` instead.\n",
      "  warnings.warn(\n"
     ]
    },
    {
     "name": "stdout",
     "output_type": "stream",
     "text": [
      "Epoch 1/10\n",
      "967/967 [==============================] - 125s 126ms/step - loss: 0.4860\n",
      "Epoch 2/10\n",
      "967/967 [==============================] - 123s 127ms/step - loss: 0.3254\n",
      "Epoch 3/10\n",
      "967/967 [==============================] - 124s 129ms/step - loss: 0.2861\n",
      "Epoch 4/10\n",
      "967/967 [==============================] - 124s 128ms/step - loss: 0.2437\n",
      "Epoch 5/10\n",
      "967/967 [==============================] - 124s 128ms/step - loss: 0.2106\n",
      "Epoch 6/10\n",
      "967/967 [==============================] - 123s 127ms/step - loss: 0.1814\n",
      "Epoch 7/10\n",
      "967/967 [==============================] - 124s 128ms/step - loss: 0.1700\n",
      "Epoch 8/10\n",
      "967/967 [==============================] - 124s 129ms/step - loss: 0.1595\n",
      "Epoch 9/10\n",
      "967/967 [==============================] - 124s 128ms/step - loss: 0.1432\n",
      "Epoch 10/10\n",
      "967/967 [==============================] - 123s 128ms/step - loss: 0.1438\n",
      "saved  trained_models/c/cnn_loso13.h5\n",
      "merged train: (30923, 5, 700) (30923, 3)\n",
      "merged test : (2227, 5, 700) (2227, 3)\n"
     ]
    },
    {
     "name": "stderr",
     "output_type": "stream",
     "text": [
      "C:\\Users\\srovi\\anaconda3\\lib\\site-packages\\tensorflow\\python\\keras\\optimizer_v2\\optimizer_v2.py:374: UserWarning: The `lr` argument is deprecated, use `learning_rate` instead.\n",
      "  warnings.warn(\n"
     ]
    },
    {
     "name": "stdout",
     "output_type": "stream",
     "text": [
      "Epoch 1/10\n",
      "967/967 [==============================] - 125s 128ms/step - loss: 0.4427\n",
      "Epoch 2/10\n",
      "967/967 [==============================] - 123s 127ms/step - loss: 0.3004\n",
      "Epoch 3/10\n",
      "967/967 [==============================] - 123s 128ms/step - loss: 0.2791\n",
      "Epoch 4/10\n",
      "967/967 [==============================] - 123s 127ms/step - loss: 0.2498\n",
      "Epoch 5/10\n",
      "967/967 [==============================] - 123s 127ms/step - loss: 0.1988\n",
      "Epoch 6/10\n",
      "967/967 [==============================] - 123s 128ms/step - loss: 0.1826\n",
      "Epoch 7/10\n",
      "967/967 [==============================] - 124s 128ms/step - loss: 0.1591\n",
      "Epoch 8/10\n",
      "967/967 [==============================] - 123s 127ms/step - loss: 0.1651\n",
      "Epoch 9/10\n",
      "967/967 [==============================] - 139s 144ms/step - loss: 0.1284\n",
      "Epoch 10/10\n",
      "967/967 [==============================] - 130s 134ms/step - loss: 0.1298\n",
      "saved  trained_models/c/cnn_loso14.h5\n",
      "merged train: (30917, 5, 700) (30917, 3)\n",
      "merged test : (2233, 5, 700) (2233, 3)\n"
     ]
    },
    {
     "name": "stderr",
     "output_type": "stream",
     "text": [
      "C:\\Users\\srovi\\anaconda3\\lib\\site-packages\\tensorflow\\python\\keras\\optimizer_v2\\optimizer_v2.py:374: UserWarning: The `lr` argument is deprecated, use `learning_rate` instead.\n",
      "  warnings.warn(\n"
     ]
    },
    {
     "name": "stdout",
     "output_type": "stream",
     "text": [
      "Epoch 1/10\n",
      "967/967 [==============================] - 141s 142ms/step - loss: 0.4838\n",
      "Epoch 2/10\n",
      "967/967 [==============================] - 128s 132ms/step - loss: 0.3228\n",
      "Epoch 3/10\n",
      "967/967 [==============================] - 130s 135ms/step - loss: 0.2802\n",
      "Epoch 4/10\n",
      "967/967 [==============================] - 132s 136ms/step - loss: 0.2527\n",
      "Epoch 5/10\n",
      "967/967 [==============================] - 128s 132ms/step - loss: 0.2129\n",
      "Epoch 6/10\n",
      "967/967 [==============================] - 129s 133ms/step - loss: 0.1945\n",
      "Epoch 7/10\n",
      "967/967 [==============================] - 124s 128ms/step - loss: 0.1748\n",
      "Epoch 8/10\n",
      "967/967 [==============================] - 124s 128ms/step - loss: 0.1653\n",
      "Epoch 9/10\n",
      "967/967 [==============================] - 124s 129ms/step - loss: 0.1492\n",
      "Epoch 10/10\n",
      "967/967 [==============================] - 124s 129ms/step - loss: 0.1396\n",
      "saved  trained_models/c/cnn_loso15.h5\n",
      "merged train: (30929, 5, 700) (30929, 3)\n",
      "merged test : (2221, 5, 700) (2221, 3)\n"
     ]
    },
    {
     "name": "stderr",
     "output_type": "stream",
     "text": [
      "C:\\Users\\srovi\\anaconda3\\lib\\site-packages\\tensorflow\\python\\keras\\optimizer_v2\\optimizer_v2.py:374: UserWarning: The `lr` argument is deprecated, use `learning_rate` instead.\n",
      "  warnings.warn(\n"
     ]
    },
    {
     "name": "stdout",
     "output_type": "stream",
     "text": [
      "Epoch 1/10\n",
      "967/967 [==============================] - 130s 132ms/step - loss: 0.5101\n",
      "Epoch 2/10\n",
      "967/967 [==============================] - 128s 132ms/step - loss: 0.3403\n",
      "Epoch 3/10\n",
      "967/967 [==============================] - 125s 129ms/step - loss: 0.2923\n",
      "Epoch 4/10\n",
      "967/967 [==============================] - 126s 131ms/step - loss: 0.2487\n",
      "Epoch 5/10\n",
      "967/967 [==============================] - 125s 129ms/step - loss: 0.2118\n",
      "Epoch 6/10\n",
      "967/967 [==============================] - 125s 129ms/step - loss: 0.1950\n",
      "Epoch 7/10\n",
      "967/967 [==============================] - 131s 136ms/step - loss: 0.1752\n",
      "Epoch 8/10\n",
      "967/967 [==============================] - 124s 128ms/step - loss: 0.1568\n",
      "Epoch 9/10\n",
      "967/967 [==============================] - 132s 136ms/step - loss: 0.1419\n",
      "Epoch 10/10\n",
      "967/967 [==============================] - 127s 131ms/step - loss: 0.1283\n",
      "saved  trained_models/c/cnn_loso16.h5\n",
      "merged train: (30874, 5, 700) (30874, 3)\n",
      "merged test : (2276, 5, 700) (2276, 3)\n"
     ]
    },
    {
     "name": "stderr",
     "output_type": "stream",
     "text": [
      "C:\\Users\\srovi\\anaconda3\\lib\\site-packages\\tensorflow\\python\\keras\\optimizer_v2\\optimizer_v2.py:374: UserWarning: The `lr` argument is deprecated, use `learning_rate` instead.\n",
      "  warnings.warn(\n"
     ]
    },
    {
     "name": "stdout",
     "output_type": "stream",
     "text": [
      "Epoch 1/10\n",
      "965/965 [==============================] - 129s 132ms/step - loss: 0.4684\n",
      "Epoch 2/10\n",
      "965/965 [==============================] - 123s 128ms/step - loss: 0.3322\n",
      "Epoch 3/10\n",
      "965/965 [==============================] - 124s 128ms/step - loss: 0.3000\n",
      "Epoch 4/10\n",
      "965/965 [==============================] - 124s 129ms/step - loss: 0.2482\n",
      "Epoch 5/10\n",
      "965/965 [==============================] - 124s 129ms/step - loss: 0.2106\n",
      "Epoch 6/10\n",
      "965/965 [==============================] - 124s 129ms/step - loss: 0.1997\n",
      "Epoch 7/10\n",
      "965/965 [==============================] - 128s 132ms/step - loss: 0.1700\n",
      "Epoch 8/10\n",
      "965/965 [==============================] - 128s 133ms/step - loss: 0.1549\n",
      "Epoch 9/10\n",
      "965/965 [==============================] - 126s 130ms/step - loss: 0.1460\n",
      "Epoch 10/10\n",
      "965/965 [==============================] - 125s 129ms/step - loss: 0.1324\n",
      "saved  trained_models/c/cnn_loso17.h5\n"
     ]
    }
   ],
   "source": [
    "cnn_m = cnn_model ()\n",
    "cnn_m.train_model_c ()"
   ]
  },
  {
   "cell_type": "code",
   "execution_count": 24,
   "metadata": {},
   "outputs": [
    {
     "name": "stdout",
     "output_type": "stream",
     "text": [
      "merged train: (31029, 8, 4) (31029, 3)\n",
      "merged test : (2121, 8, 4) (2121, 3)\n"
     ]
    },
    {
     "name": "stderr",
     "output_type": "stream",
     "text": [
      "C:\\Users\\srovi\\anaconda3\\lib\\site-packages\\tensorflow\\python\\keras\\optimizer_v2\\optimizer_v2.py:374: UserWarning: The `lr` argument is deprecated, use `learning_rate` instead.\n",
      "  warnings.warn(\n"
     ]
    },
    {
     "name": "stdout",
     "output_type": "stream",
     "text": [
      "Epoch 1/10\n",
      "970/970 [==============================] - 5s 2ms/step - loss: 0.6348A: 0\n",
      "Epoch 2/10\n",
      "970/970 [==============================] - 1s 1ms/step - loss: 0.3573\n",
      "Epoch 3/10\n",
      "970/970 [==============================] - 2s 2ms/step - loss: 0.3111\n",
      "Epoch 4/10\n",
      "970/970 [==============================] - 1s 1ms/step - loss: 0.2695\n",
      "Epoch 5/10\n",
      "970/970 [==============================] - 1s 2ms/step - loss: 0.2268\n",
      "Epoch 6/10\n",
      "970/970 [==============================] - 1s 1ms/step - loss: 0.1882\n",
      "Epoch 7/10\n",
      "970/970 [==============================] - 1s 1ms/step - loss: 0.1549\n",
      "Epoch 8/10\n",
      "970/970 [==============================] - 1s 1ms/step - loss: 0.1325\n",
      "Epoch 9/10\n",
      "970/970 [==============================] - 1s 1ms/step - loss: 0.1127\n",
      "Epoch 10/10\n",
      "970/970 [==============================] - 1s 1ms/step - loss: 0.0969\n",
      "saved  trained_models/c/cnn_all_loso2.h5\n",
      "merged train: (30996, 8, 4) (30996, 3)\n",
      "merged test : (2154, 8, 4) (2154, 3)\n",
      "Epoch 1/10\n"
     ]
    },
    {
     "name": "stderr",
     "output_type": "stream",
     "text": [
      "C:\\Users\\srovi\\anaconda3\\lib\\site-packages\\tensorflow\\python\\keras\\optimizer_v2\\optimizer_v2.py:374: UserWarning: The `lr` argument is deprecated, use `learning_rate` instead.\n",
      "  warnings.warn(\n"
     ]
    },
    {
     "name": "stdout",
     "output_type": "stream",
     "text": [
      "969/969 [==============================] - 2s 2ms/step - loss: 0.6026\n",
      "Epoch 2/10\n",
      "969/969 [==============================] - 1s 1ms/step - loss: 0.3153\n",
      "Epoch 3/10\n",
      "969/969 [==============================] - 1s 1ms/step - loss: 0.2647\n",
      "Epoch 4/10\n",
      "969/969 [==============================] - 1s 1ms/step - loss: 0.2275\n",
      "Epoch 5/10\n",
      "969/969 [==============================] - 1s 1ms/step - loss: 0.1945\n",
      "Epoch 6/10\n",
      "969/969 [==============================] - 1s 2ms/step - loss: 0.1729\n",
      "Epoch 7/10\n",
      "969/969 [==============================] - 1s 1ms/step - loss: 0.1544\n",
      "Epoch 8/10\n",
      "969/969 [==============================] - 1s 1ms/step - loss: 0.1407\n",
      "Epoch 9/10\n",
      "969/969 [==============================] - 1s 2ms/step - loss: 0.1292\n",
      "Epoch 10/10\n",
      "969/969 [==============================] - 1s 2ms/step - loss: 0.1119\n",
      "saved  trained_models/c/cnn_all_loso3.h5\n",
      "merged train: (30985, 8, 4) (30985, 3)\n",
      "merged test : (2165, 8, 4) (2165, 3)\n",
      "Epoch 1/10\n"
     ]
    },
    {
     "name": "stderr",
     "output_type": "stream",
     "text": [
      "C:\\Users\\srovi\\anaconda3\\lib\\site-packages\\tensorflow\\python\\keras\\optimizer_v2\\optimizer_v2.py:374: UserWarning: The `lr` argument is deprecated, use `learning_rate` instead.\n",
      "  warnings.warn(\n"
     ]
    },
    {
     "name": "stdout",
     "output_type": "stream",
     "text": [
      "969/969 [==============================] - 3s 1ms/step - loss: 0.5670\n",
      "Epoch 2/10\n",
      "969/969 [==============================] - 1s 2ms/step - loss: 0.3112\n",
      "Epoch 3/10\n",
      "969/969 [==============================] - 1s 1ms/step - loss: 0.2640\n",
      "Epoch 4/10\n",
      "969/969 [==============================] - 1s 1ms/step - loss: 0.2208\n",
      "Epoch 5/10\n",
      "969/969 [==============================] - 1s 1ms/step - loss: 0.1768\n",
      "Epoch 6/10\n",
      "969/969 [==============================] - 1s 1ms/step - loss: 0.1414\n",
      "Epoch 7/10\n",
      "969/969 [==============================] - 1s 1ms/step - loss: 0.1290\n",
      "Epoch 8/10\n",
      "969/969 [==============================] - 1s 1ms/step - loss: 0.1159\n",
      "Epoch 9/10\n",
      "969/969 [==============================] - 1s 2ms/step - loss: 0.1006\n",
      "Epoch 10/10\n",
      "969/969 [==============================] - 1s 1ms/step - loss: 0.0942\n",
      "saved  trained_models/c/cnn_all_loso4.h5\n",
      "merged train: (30933, 8, 4) (30933, 3)\n",
      "merged test : (2217, 8, 4) (2217, 3)\n",
      "Epoch 1/10\n"
     ]
    },
    {
     "name": "stderr",
     "output_type": "stream",
     "text": [
      "C:\\Users\\srovi\\anaconda3\\lib\\site-packages\\tensorflow\\python\\keras\\optimizer_v2\\optimizer_v2.py:374: UserWarning: The `lr` argument is deprecated, use `learning_rate` instead.\n",
      "  warnings.warn(\n"
     ]
    },
    {
     "name": "stdout",
     "output_type": "stream",
     "text": [
      "967/967 [==============================] - 3s 2ms/step - loss: 0.6832\n",
      "Epoch 2/10\n",
      "967/967 [==============================] - 2s 2ms/step - loss: 0.3526\n",
      "Epoch 3/10\n",
      "967/967 [==============================] - 2s 2ms/step - loss: 0.2975\n",
      "Epoch 4/10\n",
      "967/967 [==============================] - 1s 1ms/step - loss: 0.2672\n",
      "Epoch 5/10\n",
      "967/967 [==============================] - 1s 1ms/step - loss: 0.2401\n",
      "Epoch 6/10\n",
      "967/967 [==============================] - 1s 1ms/step - loss: 0.2236\n",
      "Epoch 7/10\n",
      "967/967 [==============================] - 1s 1ms/step - loss: 0.1998\n",
      "Epoch 8/10\n",
      "967/967 [==============================] - 1s 1ms/step - loss: 0.1815\n",
      "Epoch 9/10\n",
      "967/967 [==============================] - 1s 1ms/step - loss: 0.1611\n",
      "Epoch 10/10\n",
      "967/967 [==============================] - 1s 1ms/step - loss: 0.1428\n",
      "saved  trained_models/c/cnn_all_loso5.h5\n",
      "merged train: (30948, 8, 4) (30948, 3)\n",
      "merged test : (2202, 8, 4) (2202, 3)\n",
      "Epoch 1/10\n"
     ]
    },
    {
     "name": "stderr",
     "output_type": "stream",
     "text": [
      "C:\\Users\\srovi\\anaconda3\\lib\\site-packages\\tensorflow\\python\\keras\\optimizer_v2\\optimizer_v2.py:374: UserWarning: The `lr` argument is deprecated, use `learning_rate` instead.\n",
      "  warnings.warn(\n"
     ]
    },
    {
     "name": "stdout",
     "output_type": "stream",
     "text": [
      "968/968 [==============================] - 2s 1ms/step - loss: 0.6668\n",
      "Epoch 2/10\n",
      "968/968 [==============================] - 1s 1ms/step - loss: 0.3417\n",
      "Epoch 3/10\n",
      "968/968 [==============================] - 1s 1ms/step - loss: 0.2831\n",
      "Epoch 4/10\n",
      "968/968 [==============================] - 1s 1ms/step - loss: 0.2368\n",
      "Epoch 5/10\n",
      "968/968 [==============================] - 1s 1ms/step - loss: 0.2054\n",
      "Epoch 6/10\n",
      "968/968 [==============================] - 1s 1ms/step - loss: 0.1742\n",
      "Epoch 7/10\n",
      "968/968 [==============================] - 1s 1ms/step - loss: 0.1509\n",
      "Epoch 8/10\n",
      "968/968 [==============================] - 1s 1ms/step - loss: 0.1299\n",
      "Epoch 9/10\n",
      "968/968 [==============================] - 1s 1ms/step - loss: 0.1146A: 0s - loss: \n",
      "Epoch 10/10\n",
      "968/968 [==============================] - 1s 1ms/step - loss: 0.1039\n",
      "saved  trained_models/c/cnn_all_loso6.h5\n",
      "merged train: (30952, 8, 4) (30952, 3)\n",
      "merged test : (2198, 8, 4) (2198, 3)\n",
      "Epoch 1/10\n"
     ]
    },
    {
     "name": "stderr",
     "output_type": "stream",
     "text": [
      "C:\\Users\\srovi\\anaconda3\\lib\\site-packages\\tensorflow\\python\\keras\\optimizer_v2\\optimizer_v2.py:374: UserWarning: The `lr` argument is deprecated, use `learning_rate` instead.\n",
      "  warnings.warn(\n"
     ]
    },
    {
     "name": "stdout",
     "output_type": "stream",
     "text": [
      "968/968 [==============================] - 2s 1ms/step - loss: 0.6857\n",
      "Epoch 2/10\n",
      "968/968 [==============================] - 1s 1ms/step - loss: 0.3444\n",
      "Epoch 3/10\n",
      "968/968 [==============================] - 1s 1ms/step - loss: 0.2933\n",
      "Epoch 4/10\n",
      "968/968 [==============================] - 1s 1ms/step - loss: 0.2559\n",
      "Epoch 5/10\n",
      "968/968 [==============================] - 1s 1ms/step - loss: 0.2132\n",
      "Epoch 6/10\n",
      "968/968 [==============================] - 1s 1ms/step - loss: 0.1824\n",
      "Epoch 7/10\n",
      "968/968 [==============================] - 1s 1ms/step - loss: 0.1513\n",
      "Epoch 8/10\n",
      "968/968 [==============================] - 1s 1ms/step - loss: 0.1220\n",
      "Epoch 9/10\n",
      "968/968 [==============================] - 1s 1ms/step - loss: 0.1048\n",
      "Epoch 10/10\n",
      "968/968 [==============================] - 1s 1ms/step - loss: 0.0900\n",
      "saved  trained_models/c/cnn_all_loso7.h5\n",
      "merged train: (30941, 8, 4) (30941, 3)\n",
      "merged test : (2209, 8, 4) (2209, 3)\n",
      "Epoch 1/10\n"
     ]
    },
    {
     "name": "stderr",
     "output_type": "stream",
     "text": [
      "C:\\Users\\srovi\\anaconda3\\lib\\site-packages\\tensorflow\\python\\keras\\optimizer_v2\\optimizer_v2.py:374: UserWarning: The `lr` argument is deprecated, use `learning_rate` instead.\n",
      "  warnings.warn(\n"
     ]
    },
    {
     "name": "stdout",
     "output_type": "stream",
     "text": [
      "967/967 [==============================] - 3s 1ms/step - loss: 0.6199\n",
      "Epoch 2/10\n",
      "967/967 [==============================] - 1s 1ms/step - loss: 0.3136A: 0s \n",
      "Epoch 3/10\n",
      "967/967 [==============================] - 1s 1ms/step - loss: 0.2558\n",
      "Epoch 4/10\n",
      "967/967 [==============================] - 1s 1ms/step - loss: 0.2001\n",
      "Epoch 5/10\n",
      "967/967 [==============================] - 1s 1ms/step - loss: 0.1588\n",
      "Epoch 6/10\n",
      "967/967 [==============================] - 1s 1ms/step - loss: 0.1338\n",
      "Epoch 7/10\n",
      "967/967 [==============================] - 1s 1ms/step - loss: 0.1189\n",
      "Epoch 8/10\n",
      "967/967 [==============================] - 1s 1ms/step - loss: 0.1053\n",
      "Epoch 9/10\n",
      "967/967 [==============================] - 1s 1ms/step - loss: 0.0872\n",
      "Epoch 10/10\n",
      "967/967 [==============================] - 1s 1ms/step - loss: 0.0800\n",
      "saved  trained_models/c/cnn_all_loso8.h5\n",
      "merged train: (30953, 8, 4) (30953, 3)\n",
      "merged test : (2197, 8, 4) (2197, 3)\n",
      "Epoch 1/10\n"
     ]
    },
    {
     "name": "stderr",
     "output_type": "stream",
     "text": [
      "C:\\Users\\srovi\\anaconda3\\lib\\site-packages\\tensorflow\\python\\keras\\optimizer_v2\\optimizer_v2.py:374: UserWarning: The `lr` argument is deprecated, use `learning_rate` instead.\n",
      "  warnings.warn(\n"
     ]
    },
    {
     "name": "stdout",
     "output_type": "stream",
     "text": [
      "968/968 [==============================] - 2s 1ms/step - loss: 0.5609\n",
      "Epoch 2/10\n",
      "968/968 [==============================] - 1s 1ms/step - loss: 0.3213\n",
      "Epoch 3/10\n",
      "968/968 [==============================] - 1s 1ms/step - loss: 0.2633\n",
      "Epoch 4/10\n",
      "968/968 [==============================] - 1s 1ms/step - loss: 0.2346\n",
      "Epoch 5/10\n",
      "968/968 [==============================] - 1s 1ms/step - loss: 0.2033\n",
      "Epoch 6/10\n",
      "968/968 [==============================] - 1s 1ms/step - loss: 0.1609\n",
      "Epoch 7/10\n",
      "968/968 [==============================] - 1s 1ms/step - loss: 0.1322\n",
      "Epoch 8/10\n",
      "968/968 [==============================] - 1s 1ms/step - loss: 0.1142\n",
      "Epoch 9/10\n",
      "968/968 [==============================] - 1s 1ms/step - loss: 0.0925A:\n",
      "Epoch 10/10\n",
      "968/968 [==============================] - 1s 1ms/step - loss: 0.0815\n",
      "saved  trained_models/c/cnn_all_loso9.h5\n",
      "merged train: (30873, 8, 4) (30873, 3)\n",
      "merged test : (2277, 8, 4) (2277, 3)\n",
      "Epoch 1/10\n"
     ]
    },
    {
     "name": "stderr",
     "output_type": "stream",
     "text": [
      "C:\\Users\\srovi\\anaconda3\\lib\\site-packages\\tensorflow\\python\\keras\\optimizer_v2\\optimizer_v2.py:374: UserWarning: The `lr` argument is deprecated, use `learning_rate` instead.\n",
      "  warnings.warn(\n"
     ]
    },
    {
     "name": "stdout",
     "output_type": "stream",
     "text": [
      "965/965 [==============================] - 2s 1ms/step - loss: 0.6088\n",
      "Epoch 2/10\n",
      "965/965 [==============================] - 1s 1ms/step - loss: 0.3250A\n",
      "Epoch 3/10\n",
      "965/965 [==============================] - 1s 1ms/step - loss: 0.2463A: 0s - l\n",
      "Epoch 4/10\n",
      "965/965 [==============================] - 1s 1ms/step - loss: 0.1741\n",
      "Epoch 5/10\n",
      "965/965 [==============================] - 1s 1ms/step - loss: 0.1366\n",
      "Epoch 6/10\n",
      "965/965 [==============================] - 1s 1ms/step - loss: 0.1069\n",
      "Epoch 7/10\n",
      "965/965 [==============================] - 1s 1ms/step - loss: 0.0853\n",
      "Epoch 8/10\n",
      "965/965 [==============================] - 1s 1ms/step - loss: 0.0712\n",
      "Epoch 9/10\n",
      "965/965 [==============================] - 1s 1ms/step - loss: 0.0621\n",
      "Epoch 10/10\n",
      "965/965 [==============================] - 1s 1ms/step - loss: 0.0588\n",
      "saved  trained_models/c/cnn_all_loso10.h5\n",
      "merged train: (30923, 8, 4) (30923, 3)\n",
      "merged test : (2227, 8, 4) (2227, 3)\n"
     ]
    },
    {
     "name": "stderr",
     "output_type": "stream",
     "text": [
      "C:\\Users\\srovi\\anaconda3\\lib\\site-packages\\tensorflow\\python\\keras\\optimizer_v2\\optimizer_v2.py:374: UserWarning: The `lr` argument is deprecated, use `learning_rate` instead.\n",
      "  warnings.warn(\n"
     ]
    },
    {
     "name": "stdout",
     "output_type": "stream",
     "text": [
      "Epoch 1/10\n",
      "967/967 [==============================] - 2s 1ms/step - loss: 0.6809\n",
      "Epoch 2/10\n",
      "967/967 [==============================] - 1s 1ms/step - loss: 0.3262\n",
      "Epoch 3/10\n",
      "967/967 [==============================] - 1s 1ms/step - loss: 0.2532\n",
      "Epoch 4/10\n",
      "967/967 [==============================] - 1s 1ms/step - loss: 0.2067\n",
      "Epoch 5/10\n",
      "967/967 [==============================] - 1s 1ms/step - loss: 0.1741\n",
      "Epoch 6/10\n",
      "967/967 [==============================] - 1s 1ms/step - loss: 0.1489\n",
      "Epoch 7/10\n",
      "967/967 [==============================] - 1s 1ms/step - loss: 0.1276\n",
      "Epoch 8/10\n",
      "967/967 [==============================] - 1s 1ms/step - loss: 0.1176\n",
      "Epoch 9/10\n",
      "967/967 [==============================] - 1s 1ms/step - loss: 0.1043\n",
      "Epoch 10/10\n",
      "967/967 [==============================] - 1s 1ms/step - loss: 0.0900\n",
      "saved  trained_models/c/cnn_all_loso11.h5\n",
      "merged train: (30924, 8, 4) (30924, 3)\n",
      "merged test : (2226, 8, 4) (2226, 3)\n",
      "Epoch 1/10\n"
     ]
    },
    {
     "name": "stderr",
     "output_type": "stream",
     "text": [
      "C:\\Users\\srovi\\anaconda3\\lib\\site-packages\\tensorflow\\python\\keras\\optimizer_v2\\optimizer_v2.py:374: UserWarning: The `lr` argument is deprecated, use `learning_rate` instead.\n",
      "  warnings.warn(\n"
     ]
    },
    {
     "name": "stdout",
     "output_type": "stream",
     "text": [
      "967/967 [==============================] - 2s 1ms/step - loss: 0.6751\n",
      "Epoch 2/10\n",
      "967/967 [==============================] - 1s 1ms/step - loss: 0.3478\n",
      "Epoch 3/10\n",
      "967/967 [==============================] - 1s 1ms/step - loss: 0.2847\n",
      "Epoch 4/10\n",
      "967/967 [==============================] - 1s 1ms/step - loss: 0.2415\n",
      "Epoch 5/10\n",
      "967/967 [==============================] - 1s 1ms/step - loss: 0.2097\n",
      "Epoch 6/10\n",
      "967/967 [==============================] - 1s 1ms/step - loss: 0.1791A: 0s - loss: 0.17\n",
      "Epoch 7/10\n",
      "967/967 [==============================] - 1s 1ms/step - loss: 0.1485\n",
      "Epoch 8/10\n",
      "967/967 [==============================] - 1s 1ms/step - loss: 0.1285\n",
      "Epoch 9/10\n",
      "967/967 [==============================] - 1s 1ms/step - loss: 0.1170\n",
      "Epoch 10/10\n",
      "967/967 [==============================] - 1s 1ms/step - loss: 0.1006A: 0s - l\n",
      "saved  trained_models/c/cnn_all_loso13.h5\n",
      "merged train: (30923, 8, 4) (30923, 3)\n",
      "merged test : (2227, 8, 4) (2227, 3)\n",
      "Epoch 1/10\n"
     ]
    },
    {
     "name": "stderr",
     "output_type": "stream",
     "text": [
      "C:\\Users\\srovi\\anaconda3\\lib\\site-packages\\tensorflow\\python\\keras\\optimizer_v2\\optimizer_v2.py:374: UserWarning: The `lr` argument is deprecated, use `learning_rate` instead.\n",
      "  warnings.warn(\n"
     ]
    },
    {
     "name": "stdout",
     "output_type": "stream",
     "text": [
      "967/967 [==============================] - 3s 1ms/step - loss: 0.5712\n",
      "Epoch 2/10\n",
      "967/967 [==============================] - 1s 1ms/step - loss: 0.2720\n",
      "Epoch 3/10\n",
      "967/967 [==============================] - 1s 1ms/step - loss: 0.2263\n",
      "Epoch 4/10\n",
      "967/967 [==============================] - 1s 1ms/step - loss: 0.1941\n",
      "Epoch 5/10\n",
      "967/967 [==============================] - 1s 1ms/step - loss: 0.1637\n",
      "Epoch 6/10\n",
      "967/967 [==============================] - 1s 1ms/step - loss: 0.1512\n",
      "Epoch 7/10\n",
      "967/967 [==============================] - 1s 1ms/step - loss: 0.1193A: 0s - loss: 0.11\n",
      "Epoch 8/10\n",
      "967/967 [==============================] - 1s 1ms/step - loss: 0.1046\n",
      "Epoch 9/10\n",
      "967/967 [==============================] - 1s 1ms/step - loss: 0.0944A: 0\n",
      "Epoch 10/10\n",
      "967/967 [==============================] - 1s 1ms/step - loss: 0.0897\n",
      "saved  trained_models/c/cnn_all_loso14.h5\n",
      "merged train: (30917, 8, 4) (30917, 3)\n",
      "merged test : (2233, 8, 4) (2233, 3)\n",
      "Epoch 1/10\n"
     ]
    },
    {
     "name": "stderr",
     "output_type": "stream",
     "text": [
      "C:\\Users\\srovi\\anaconda3\\lib\\site-packages\\tensorflow\\python\\keras\\optimizer_v2\\optimizer_v2.py:374: UserWarning: The `lr` argument is deprecated, use `learning_rate` instead.\n",
      "  warnings.warn(\n"
     ]
    },
    {
     "name": "stdout",
     "output_type": "stream",
     "text": [
      "967/967 [==============================] - 2s 1ms/step - loss: 0.6516A: 0s - loss: \n",
      "Epoch 2/10\n",
      "967/967 [==============================] - 1s 1ms/step - loss: 0.3513\n",
      "Epoch 3/10\n",
      "967/967 [==============================] - 1s 1ms/step - loss: 0.3176\n",
      "Epoch 4/10\n",
      "967/967 [==============================] - 1s 1ms/step - loss: 0.2940\n",
      "Epoch 5/10\n",
      "967/967 [==============================] - 1s 1ms/step - loss: 0.2509\n",
      "Epoch 6/10\n",
      "967/967 [==============================] - 1s 1ms/step - loss: 0.2093\n",
      "Epoch 7/10\n",
      "967/967 [==============================] - 1s 1ms/step - loss: 0.1903\n",
      "Epoch 8/10\n",
      "967/967 [==============================] - 1s 1ms/step - loss: 0.1607\n",
      "Epoch 9/10\n",
      "967/967 [==============================] - 1s 1ms/step - loss: 0.1390\n",
      "Epoch 10/10\n",
      "967/967 [==============================] - 1s 1ms/step - loss: 0.1253\n",
      "saved  trained_models/c/cnn_all_loso15.h5\n",
      "merged train: (30929, 8, 4) (30929, 3)\n",
      "merged test : (2221, 8, 4) (2221, 3)\n",
      "Epoch 1/10\n"
     ]
    },
    {
     "name": "stderr",
     "output_type": "stream",
     "text": [
      "C:\\Users\\srovi\\anaconda3\\lib\\site-packages\\tensorflow\\python\\keras\\optimizer_v2\\optimizer_v2.py:374: UserWarning: The `lr` argument is deprecated, use `learning_rate` instead.\n",
      "  warnings.warn(\n"
     ]
    },
    {
     "name": "stdout",
     "output_type": "stream",
     "text": [
      "967/967 [==============================] - 2s 1ms/step - loss: 0.6499\n",
      "Epoch 2/10\n",
      "967/967 [==============================] - 1s 1ms/step - loss: 0.3405A: 0s - loss: 0\n",
      "Epoch 3/10\n",
      "967/967 [==============================] - 1s 1ms/step - loss: 0.2789\n",
      "Epoch 4/10\n",
      "967/967 [==============================] - 1s 1ms/step - loss: 0.2224\n",
      "Epoch 5/10\n",
      "967/967 [==============================] - 1s 1ms/step - loss: 0.1862\n",
      "Epoch 6/10\n",
      "967/967 [==============================] - 1s 1ms/step - loss: 0.1700\n",
      "Epoch 7/10\n",
      "967/967 [==============================] - 1s 1ms/step - loss: 0.1410\n",
      "Epoch 8/10\n",
      "967/967 [==============================] - 1s 1ms/step - loss: 0.1276\n",
      "Epoch 9/10\n",
      "967/967 [==============================] - 1s 1ms/step - loss: 0.1156\n",
      "Epoch 10/10\n",
      "967/967 [==============================] - 1s 1ms/step - loss: 0.1058A: 0s - \n",
      "saved  trained_models/c/cnn_all_loso16.h5\n",
      "merged train: (30874, 8, 4) (30874, 3)\n",
      "merged test : (2276, 8, 4) (2276, 3)\n",
      "Epoch 1/10\n"
     ]
    },
    {
     "name": "stderr",
     "output_type": "stream",
     "text": [
      "C:\\Users\\srovi\\anaconda3\\lib\\site-packages\\tensorflow\\python\\keras\\optimizer_v2\\optimizer_v2.py:374: UserWarning: The `lr` argument is deprecated, use `learning_rate` instead.\n",
      "  warnings.warn(\n"
     ]
    },
    {
     "name": "stdout",
     "output_type": "stream",
     "text": [
      "965/965 [==============================] - 3s 1ms/step - loss: 0.5202\n",
      "Epoch 2/10\n",
      "965/965 [==============================] - 1s 1ms/step - loss: 0.3087\n",
      "Epoch 3/10\n",
      "965/965 [==============================] - 1s 1ms/step - loss: 0.2637\n",
      "Epoch 4/10\n",
      "965/965 [==============================] - 1s 1ms/step - loss: 0.2370\n",
      "Epoch 5/10\n",
      "965/965 [==============================] - 1s 1ms/step - loss: 0.2131A: 0s - loss\n",
      "Epoch 6/10\n",
      "965/965 [==============================] - 1s 1ms/step - loss: 0.1916\n",
      "Epoch 7/10\n",
      "965/965 [==============================] - 1s 1ms/step - loss: 0.1660\n",
      "Epoch 8/10\n",
      "965/965 [==============================] - 1s 1ms/step - loss: 0.1471\n",
      "Epoch 9/10\n",
      "965/965 [==============================] - 1s 1ms/step - loss: 0.1314\n",
      "Epoch 10/10\n",
      "965/965 [==============================] - 1s 1ms/step - loss: 0.1224\n",
      "saved  trained_models/c/cnn_all_loso17.h5\n",
      "============= test subject 2 ==================\n",
      "merged train: (31029, 5, 700) (31029, 3)\n",
      "merged test : (2121, 5, 700) (2121, 3)\n",
      "merged train: (31031, 1, 64) (31031, 3)\n",
      "merged test : (2121, 1, 64) (2121, 3)\n",
      "merged train: (31030, 2, 4) (31030, 3)\n",
      "merged test : (2121, 2, 4) (2121, 3)\n",
      "merged train: (31029, 8, 4) (31029, 3)\n",
      "merged test : (2121, 8, 4) (2121, 3)\n"
     ]
    },
    {
     "name": "stderr",
     "output_type": "stream",
     "text": [
      "C:\\Users\\srovi\\anaconda3\\lib\\site-packages\\tensorflow\\python\\keras\\optimizer_v2\\optimizer_v2.py:374: UserWarning: The `lr` argument is deprecated, use `learning_rate` instead.\n",
      "  warnings.warn(\n"
     ]
    },
    {
     "name": "stdout",
     "output_type": "stream",
     "text": [
      "Epoch 1/4\n",
      "970/970 [==============================] - 3s 2ms/step - loss: 0.9482\n",
      "Epoch 2/4\n",
      "970/970 [==============================] - 2s 2ms/step - loss: 0.8791\n",
      "Epoch 3/4\n",
      "970/970 [==============================] - 2s 2ms/step - loss: 0.8555\n",
      "Epoch 4/4\n",
      "970/970 [==============================] - 2s 2ms/step - loss: 0.8372\n",
      "pred_trainw1.shape:  (31031, 3)\n",
      "pred_testw1.shape:  (2121, 3)\n",
      "y_testw1.shape:  (2121, 3)\n",
      "Epoch 1/4\n",
      "970/970 [==============================] - 3s 1ms/step - loss: 0.9113\n",
      "Epoch 2/4\n",
      "970/970 [==============================] - 1s 1ms/step - loss: 0.6317\n",
      "Epoch 3/4\n",
      "970/970 [==============================] - 1s 1ms/step - loss: 0.5954\n",
      "Epoch 4/4\n",
      "970/970 [==============================] - 1s 1ms/step - loss: 0.5708\n",
      "loaded:  trained_models/c/cnn_loso2.h5\n",
      "pred_trainw2.shape:  (31030, 3)\n",
      "pred_train.shape:  (31029, 3)\n",
      "pred_testw2.shape:  (2121, 3)\n",
      "pred_test.shape:  (2121, 3)\n",
      "subject  2\n",
      "chest accuracy:  0.7416313059877416\n",
      "chest f1 score:  0.7465538667797508\n",
      "\n",
      "loaded:  trained_models/c/cnn_all_loso2.h5\n",
      "============= test subject 3 ==================\n",
      "merged train: (30996, 5, 700) (30996, 3)\n",
      "merged test : (2154, 5, 700) (2154, 3)\n",
      "merged train: (30997, 1, 64) (30997, 3)\n",
      "merged test : (2155, 1, 64) (2155, 3)\n",
      "merged train: (30996, 2, 4) (30996, 3)\n",
      "merged test : (2155, 2, 4) (2155, 3)\n",
      "merged train: (30996, 8, 4) (30996, 3)\n",
      "merged test : (2154, 8, 4) (2154, 3)\n"
     ]
    },
    {
     "name": "stderr",
     "output_type": "stream",
     "text": [
      "C:\\Users\\srovi\\anaconda3\\lib\\site-packages\\tensorflow\\python\\keras\\optimizer_v2\\optimizer_v2.py:374: UserWarning: The `lr` argument is deprecated, use `learning_rate` instead.\n",
      "  warnings.warn(\n"
     ]
    },
    {
     "name": "stdout",
     "output_type": "stream",
     "text": [
      "Epoch 1/4\n",
      "969/969 [==============================] - 4s 2ms/step - loss: 0.9584\n",
      "Epoch 2/4\n",
      "969/969 [==============================] - 2s 2ms/step - loss: 0.8714\n",
      "Epoch 3/4\n",
      "969/969 [==============================] - 2s 2ms/step - loss: 0.8473\n",
      "Epoch 4/4\n",
      "969/969 [==============================] - 2s 2ms/step - loss: 0.8358\n",
      "pred_trainw1.shape:  (30997, 3)\n",
      "pred_testw1.shape:  (2155, 3)\n",
      "y_testw1.shape:  (2155, 3)\n",
      "Epoch 1/4\n",
      "969/969 [==============================] - 2s 1ms/step - loss: 1.0210\n",
      "Epoch 2/4\n",
      "969/969 [==============================] - 1s 1ms/step - loss: 0.7101\n",
      "Epoch 3/4\n",
      "969/969 [==============================] - 1s 1ms/step - loss: 0.6173\n",
      "Epoch 4/4\n",
      "969/969 [==============================] - 1s 1ms/step - loss: 0.5948\n",
      "loaded:  trained_models/c/cnn_loso3.h5\n",
      "pred_trainw2.shape:  (30996, 3)\n",
      "pred_train.shape:  (30996, 3)\n",
      "pred_testw2.shape:  (2155, 3)\n",
      "pred_test.shape:  (2154, 3)\n",
      "subject  3\n",
      "chest accuracy:  0.7845868152274837\n",
      "chest f1 score:  0.7844158095296371\n",
      "\n",
      "loaded:  trained_models/c/cnn_all_loso3.h5\n",
      "============= test subject 4 ==================\n",
      "merged train: (30985, 5, 700) (30985, 3)\n",
      "merged test : (2165, 5, 700) (2165, 3)\n",
      "merged train: (30987, 1, 64) (30987, 3)\n",
      "merged test : (2165, 1, 64) (2165, 3)\n",
      "merged train: (30986, 2, 4) (30986, 3)\n",
      "merged test : (2165, 2, 4) (2165, 3)\n",
      "merged train: (30985, 8, 4) (30985, 3)\n",
      "merged test : (2165, 8, 4) (2165, 3)\n"
     ]
    },
    {
     "name": "stderr",
     "output_type": "stream",
     "text": [
      "C:\\Users\\srovi\\anaconda3\\lib\\site-packages\\tensorflow\\python\\keras\\optimizer_v2\\optimizer_v2.py:374: UserWarning: The `lr` argument is deprecated, use `learning_rate` instead.\n",
      "  warnings.warn(\n"
     ]
    },
    {
     "name": "stdout",
     "output_type": "stream",
     "text": [
      "Epoch 1/4\n",
      "969/969 [==============================] - 3s 2ms/step - loss: 0.9516\n",
      "Epoch 2/4\n",
      "969/969 [==============================] - 2s 2ms/step - loss: 0.8832\n",
      "Epoch 3/4\n",
      "969/969 [==============================] - 2s 2ms/step - loss: 0.8508\n",
      "Epoch 4/4\n",
      "969/969 [==============================] - 2s 2ms/step - loss: 0.8392\n",
      "pred_trainw1.shape:  (30987, 3)\n",
      "pred_testw1.shape:  (2165, 3)\n",
      "y_testw1.shape:  (2165, 3)\n",
      "Epoch 1/4\n",
      "969/969 [==============================] - 3s 1ms/step - loss: 0.9130\n",
      "Epoch 2/4\n",
      "969/969 [==============================] - 1s 1ms/step - loss: 0.6447\n",
      "Epoch 3/4\n",
      "969/969 [==============================] - 1s 1ms/step - loss: 0.6265\n",
      "Epoch 4/4\n",
      "969/969 [==============================] - 1s 1ms/step - loss: 0.6038\n",
      "loaded:  trained_models/c/cnn_loso4.h5\n",
      "pred_trainw2.shape:  (30986, 3)\n",
      "pred_train.shape:  (30985, 3)\n",
      "pred_testw2.shape:  (2165, 3)\n",
      "pred_test.shape:  (2165, 3)\n",
      "subject  4\n",
      "chest accuracy:  0.6928406466512702\n",
      "chest f1 score:  0.7109459027920932\n",
      "\n",
      "loaded:  trained_models/c/cnn_all_loso4.h5\n",
      "============= test subject 5 ==================\n",
      "merged train: (30933, 5, 700) (30933, 3)\n",
      "merged test : (2217, 5, 700) (2217, 3)\n",
      "merged train: (30935, 1, 64) (30935, 3)\n",
      "merged test : (2217, 1, 64) (2217, 3)\n",
      "merged train: (30934, 2, 4) (30934, 3)\n",
      "merged test : (2217, 2, 4) (2217, 3)\n",
      "merged train: (30933, 8, 4) (30933, 3)\n",
      "merged test : (2217, 8, 4) (2217, 3)\n"
     ]
    },
    {
     "name": "stderr",
     "output_type": "stream",
     "text": [
      "C:\\Users\\srovi\\anaconda3\\lib\\site-packages\\tensorflow\\python\\keras\\optimizer_v2\\optimizer_v2.py:374: UserWarning: The `lr` argument is deprecated, use `learning_rate` instead.\n",
      "  warnings.warn(\n"
     ]
    },
    {
     "name": "stdout",
     "output_type": "stream",
     "text": [
      "Epoch 1/4\n",
      "967/967 [==============================] - 5s 2ms/step - loss: 0.9415\n",
      "Epoch 2/4\n",
      "967/967 [==============================] - 2s 2ms/step - loss: 0.8588\n",
      "Epoch 3/4\n",
      "967/967 [==============================] - 2s 2ms/step - loss: 0.8303\n",
      "Epoch 4/4\n",
      "967/967 [==============================] - 2s 2ms/step - loss: 0.8081\n",
      "pred_trainw1.shape:  (30935, 3)\n",
      "pred_testw1.shape:  (2217, 3)\n",
      "y_testw1.shape:  (2217, 3)\n",
      "Epoch 1/4\n",
      "967/967 [==============================] - 2s 1ms/step - loss: 0.7496\n",
      "Epoch 2/4\n",
      "967/967 [==============================] - 1s 1ms/step - loss: 0.6187\n",
      "Epoch 3/4\n",
      "967/967 [==============================] - 1s 1ms/step - loss: 0.6003A: 0s - loss:\n",
      "Epoch 4/4\n",
      "967/967 [==============================] - 1s 1ms/step - loss: 0.5954\n",
      "loaded:  trained_models/c/cnn_loso5.h5\n",
      "pred_trainw2.shape:  (30934, 3)\n",
      "pred_train.shape:  (30933, 3)\n",
      "pred_testw2.shape:  (2217, 3)\n",
      "pred_test.shape:  (2217, 3)\n",
      "subject  5\n",
      "chest accuracy:  0.9057284618854308\n",
      "chest f1 score:  0.9007217773375901\n",
      "\n",
      "loaded:  trained_models/c/cnn_all_loso5.h5\n",
      "============= test subject 6 ==================\n",
      "merged train: (30948, 5, 700) (30948, 3)\n",
      "merged test : (2202, 5, 700) (2202, 3)\n",
      "merged train: (30950, 1, 64) (30950, 3)\n",
      "merged test : (2202, 1, 64) (2202, 3)\n",
      "merged train: (30949, 2, 4) (30949, 3)\n",
      "merged test : (2202, 2, 4) (2202, 3)\n",
      "merged train: (30948, 8, 4) (30948, 3)\n",
      "merged test : (2202, 8, 4) (2202, 3)\n"
     ]
    },
    {
     "name": "stderr",
     "output_type": "stream",
     "text": [
      "C:\\Users\\srovi\\anaconda3\\lib\\site-packages\\tensorflow\\python\\keras\\optimizer_v2\\optimizer_v2.py:374: UserWarning: The `lr` argument is deprecated, use `learning_rate` instead.\n",
      "  warnings.warn(\n"
     ]
    },
    {
     "name": "stdout",
     "output_type": "stream",
     "text": [
      "Epoch 1/4\n",
      "968/968 [==============================] - 5s 2ms/step - loss: 0.9531\n",
      "Epoch 2/4\n",
      "968/968 [==============================] - ETA: 0s - loss: 0.873 - 2s 2ms/step - loss: 0.8735\n",
      "Epoch 3/4\n",
      "968/968 [==============================] - 2s 2ms/step - loss: 0.8519\n",
      "Epoch 4/4\n",
      "968/968 [==============================] - 2s 2ms/step - loss: 0.8296\n",
      "pred_trainw1.shape:  (30950, 3)\n",
      "pred_testw1.shape:  (2202, 3)\n",
      "y_testw1.shape:  (2202, 3)\n",
      "Epoch 1/4\n",
      "968/968 [==============================] - 2s 1ms/step - loss: 1.0739\n",
      "Epoch 2/4\n",
      "968/968 [==============================] - 1s 1ms/step - loss: 0.7451\n",
      "Epoch 3/4\n",
      "968/968 [==============================] - 1s 1ms/step - loss: 0.6467\n",
      "Epoch 4/4\n",
      "968/968 [==============================] - 1s 1ms/step - loss: 0.6209\n",
      "loaded:  trained_models/c/cnn_loso6.h5\n",
      "pred_trainw2.shape:  (30949, 3)\n",
      "pred_train.shape:  (30948, 3)\n",
      "pred_testw2.shape:  (2202, 3)\n",
      "pred_test.shape:  (2202, 3)\n",
      "subject  6\n",
      "chest accuracy:  0.7801998183469573\n",
      "chest f1 score:  0.7793076981799402\n",
      "\n",
      "loaded:  trained_models/c/cnn_all_loso6.h5\n",
      "============= test subject 7 ==================\n",
      "merged train: (30952, 5, 700) (30952, 3)\n",
      "merged test : (2198, 5, 700) (2198, 3)\n",
      "merged train: (30954, 1, 64) (30954, 3)\n",
      "merged test : (2198, 1, 64) (2198, 3)\n",
      "merged train: (30953, 2, 4) (30953, 3)\n",
      "merged test : (2198, 2, 4) (2198, 3)\n",
      "merged train: (30952, 8, 4) (30952, 3)\n",
      "merged test : (2198, 8, 4) (2198, 3)\n"
     ]
    },
    {
     "name": "stderr",
     "output_type": "stream",
     "text": [
      "C:\\Users\\srovi\\anaconda3\\lib\\site-packages\\tensorflow\\python\\keras\\optimizer_v2\\optimizer_v2.py:374: UserWarning: The `lr` argument is deprecated, use `learning_rate` instead.\n",
      "  warnings.warn(\n"
     ]
    },
    {
     "name": "stdout",
     "output_type": "stream",
     "text": [
      "Epoch 1/4\n",
      "968/968 [==============================] - 5s 2ms/step - loss: 0.9640A: 0s - lo\n",
      "Epoch 2/4\n",
      "968/968 [==============================] - 2s 2ms/step - loss: 0.8879\n",
      "Epoch 3/4\n",
      "968/968 [==============================] - 2s 2ms/step - loss: 0.8668\n",
      "Epoch 4/4\n",
      "968/968 [==============================] - 2s 2ms/step - loss: 0.8542\n",
      "pred_trainw1.shape:  (30954, 3)\n",
      "pred_testw1.shape:  (2198, 3)\n",
      "y_testw1.shape:  (2198, 3)\n",
      "Epoch 1/4\n",
      "968/968 [==============================] - 2s 1ms/step - loss: 0.8884\n",
      "Epoch 2/4\n",
      "968/968 [==============================] - 1s 1ms/step - loss: 0.7367\n",
      "Epoch 3/4\n",
      "968/968 [==============================] - 1s 1ms/step - loss: 0.6346\n",
      "Epoch 4/4\n",
      "968/968 [==============================] - 1s 1ms/step - loss: 0.6151\n",
      "loaded:  trained_models/c/cnn_loso7.h5\n",
      "pred_trainw2.shape:  (30953, 3)\n",
      "pred_train.shape:  (30952, 3)\n",
      "pred_testw2.shape:  (2198, 3)\n",
      "pred_test.shape:  (2198, 3)\n",
      "subject  7\n",
      "chest accuracy:  0.8316651501364877\n",
      "chest f1 score:  0.7890032495399677\n",
      "\n",
      "loaded:  trained_models/c/cnn_all_loso7.h5\n",
      "============= test subject 8 ==================\n",
      "merged train: (30942, 5, 700) (30942, 3)\n",
      "merged test : (2208, 5, 700) (2208, 3)\n",
      "merged train: (30943, 1, 64) (30943, 3)\n",
      "merged test : (2209, 1, 64) (2209, 3)\n",
      "merged train: (30942, 2, 4) (30942, 3)\n",
      "merged test : (2209, 2, 4) (2209, 3)\n",
      "merged train: (30941, 8, 4) (30941, 3)\n",
      "merged test : (2209, 8, 4) (2209, 3)\n"
     ]
    },
    {
     "name": "stderr",
     "output_type": "stream",
     "text": [
      "C:\\Users\\srovi\\anaconda3\\lib\\site-packages\\tensorflow\\python\\keras\\optimizer_v2\\optimizer_v2.py:374: UserWarning: The `lr` argument is deprecated, use `learning_rate` instead.\n",
      "  warnings.warn(\n"
     ]
    },
    {
     "name": "stdout",
     "output_type": "stream",
     "text": [
      "Epoch 1/4\n",
      "967/967 [==============================] - 4s 2ms/step - loss: 0.9754\n",
      "Epoch 2/4\n",
      "967/967 [==============================] - 2s 2ms/step - loss: 0.8773\n",
      "Epoch 3/4\n",
      "967/967 [==============================] - 2s 2ms/step - loss: 0.8551\n",
      "Epoch 4/4\n",
      "967/967 [==============================] - 2s 2ms/step - loss: 0.8425\n",
      "pred_trainw1.shape:  (30943, 3)\n",
      "pred_testw1.shape:  (2209, 3)\n",
      "y_testw1.shape:  (2209, 3)\n",
      "Epoch 1/4\n",
      "967/967 [==============================] - 2s 1ms/step - loss: 0.9565\n",
      "Epoch 2/4\n",
      "967/967 [==============================] - 1s 1ms/step - loss: 0.7442\n",
      "Epoch 3/4\n",
      "967/967 [==============================] - 1s 1ms/step - loss: 0.6920\n",
      "Epoch 4/4\n",
      "967/967 [==============================] - 1s 1ms/step - loss: 0.6761\n",
      "loaded:  trained_models/c/cnn_loso8.h5\n",
      "pred_trainw2.shape:  (30942, 3)\n",
      "pred_train.shape:  (30942, 3)\n",
      "pred_testw2.shape:  (2209, 3)\n",
      "pred_test.shape:  (2208, 3)\n",
      "subject  8\n",
      "chest accuracy:  0.4470108695652174\n",
      "chest f1 score:  0.4677871781600667\n",
      "\n",
      "loaded:  trained_models/c/cnn_all_loso8.h5\n",
      "============= test subject 9 ==================\n",
      "merged train: (30953, 5, 700) (30953, 3)\n",
      "merged test : (2197, 5, 700) (2197, 3)\n",
      "merged train: (30955, 1, 64) (30955, 3)\n",
      "merged test : (2197, 1, 64) (2197, 3)\n",
      "merged train: (30954, 2, 4) (30954, 3)\n",
      "merged test : (2197, 2, 4) (2197, 3)\n",
      "merged train: (30953, 8, 4) (30953, 3)\n",
      "merged test : (2197, 8, 4) (2197, 3)\n"
     ]
    },
    {
     "name": "stderr",
     "output_type": "stream",
     "text": [
      "C:\\Users\\srovi\\anaconda3\\lib\\site-packages\\tensorflow\\python\\keras\\optimizer_v2\\optimizer_v2.py:374: UserWarning: The `lr` argument is deprecated, use `learning_rate` instead.\n",
      "  warnings.warn(\n"
     ]
    },
    {
     "name": "stdout",
     "output_type": "stream",
     "text": [
      "Epoch 1/4\n",
      "968/968 [==============================] - 4s 2ms/step - loss: 0.9613\n",
      "Epoch 2/4\n",
      "968/968 [==============================] - 2s 2ms/step - loss: 0.8773\n",
      "Epoch 3/4\n",
      "968/968 [==============================] - 2s 2ms/step - loss: 0.8493\n",
      "Epoch 4/4\n",
      "968/968 [==============================] - 2s 2ms/step - loss: 0.8368\n",
      "pred_trainw1.shape:  (30955, 3)\n",
      "pred_testw1.shape:  (2197, 3)\n",
      "y_testw1.shape:  (2197, 3)\n",
      "Epoch 1/4\n",
      "968/968 [==============================] - 4s 1ms/step - loss: 0.8276\n",
      "Epoch 2/4\n",
      "968/968 [==============================] - 1s 2ms/step - loss: 0.6763\n",
      "Epoch 3/4\n",
      "968/968 [==============================] - 1s 1ms/step - loss: 0.6340\n",
      "Epoch 4/4\n",
      "968/968 [==============================] - 1s 1ms/step - loss: 0.6026\n",
      "loaded:  trained_models/c/cnn_loso9.h5\n",
      "pred_trainw2.shape:  (30954, 3)\n",
      "pred_train.shape:  (30953, 3)\n",
      "pred_testw2.shape:  (2197, 3)\n",
      "pred_test.shape:  (2197, 3)\n",
      "subject  9\n",
      "chest accuracy:  0.7319071461083295\n",
      "chest f1 score:  0.7315947847374421\n",
      "\n",
      "loaded:  trained_models/c/cnn_all_loso9.h5\n",
      "============= test subject 10 ==================\n",
      "merged train: (30873, 5, 700) (30873, 3)\n",
      "merged test : (2277, 5, 700) (2277, 3)\n",
      "merged train: (30875, 1, 64) (30875, 3)\n",
      "merged test : (2277, 1, 64) (2277, 3)\n",
      "merged train: (30874, 2, 4) (30874, 3)\n",
      "merged test : (2277, 2, 4) (2277, 3)\n",
      "merged train: (30873, 8, 4) (30873, 3)\n",
      "merged test : (2277, 8, 4) (2277, 3)\n"
     ]
    },
    {
     "name": "stderr",
     "output_type": "stream",
     "text": [
      "C:\\Users\\srovi\\anaconda3\\lib\\site-packages\\tensorflow\\python\\keras\\optimizer_v2\\optimizer_v2.py:374: UserWarning: The `lr` argument is deprecated, use `learning_rate` instead.\n",
      "  warnings.warn(\n"
     ]
    },
    {
     "name": "stdout",
     "output_type": "stream",
     "text": [
      "Epoch 1/4\n",
      "965/965 [==============================] - 3s 2ms/step - loss: 0.9565\n",
      "Epoch 2/4\n",
      "965/965 [==============================] - 2s 2ms/step - loss: 0.8775\n",
      "Epoch 3/4\n",
      "965/965 [==============================] - 2s 2ms/step - loss: 0.8465\n",
      "Epoch 4/4\n",
      "965/965 [==============================] - 2s 2ms/step - loss: 0.8212\n",
      "pred_trainw1.shape:  (30875, 3)\n",
      "pred_testw1.shape:  (2277, 3)\n",
      "y_testw1.shape:  (2277, 3)\n",
      "Epoch 1/4\n",
      "965/965 [==============================] - 3s 1ms/step - loss: 0.9372\n",
      "Epoch 2/4\n",
      "965/965 [==============================] - 1s 1ms/step - loss: 0.6598\n",
      "Epoch 3/4\n",
      "965/965 [==============================] - 1s 989us/step - loss: 0.5851\n",
      "Epoch 4/4\n",
      "965/965 [==============================] - 1s 1ms/step - loss: 0.5764\n",
      "loaded:  trained_models/c/cnn_loso10.h5\n",
      "pred_trainw2.shape:  (30874, 3)\n",
      "pred_train.shape:  (30873, 3)\n",
      "pred_testw2.shape:  (2277, 3)\n",
      "pred_test.shape:  (2277, 3)\n",
      "subject  10\n",
      "chest accuracy:  0.9279754062362758\n",
      "chest f1 score:  0.928044873154638\n",
      "\n",
      "loaded:  trained_models/c/cnn_all_loso10.h5\n",
      "============= test subject 11 ==================\n",
      "merged train: (30922, 5, 700) (30922, 3)\n",
      "merged test : (2228, 5, 700) (2228, 3)\n",
      "merged train: (30924, 1, 64) (30924, 3)\n",
      "merged test : (2228, 1, 64) (2228, 3)\n",
      "merged train: (30924, 2, 4) (30924, 3)\n",
      "merged test : (2227, 2, 4) (2227, 3)\n",
      "merged train: (30923, 8, 4) (30923, 3)\n",
      "merged test : (2227, 8, 4) (2227, 3)\n"
     ]
    },
    {
     "name": "stderr",
     "output_type": "stream",
     "text": [
      "C:\\Users\\srovi\\anaconda3\\lib\\site-packages\\tensorflow\\python\\keras\\optimizer_v2\\optimizer_v2.py:374: UserWarning: The `lr` argument is deprecated, use `learning_rate` instead.\n",
      "  warnings.warn(\n"
     ]
    },
    {
     "name": "stdout",
     "output_type": "stream",
     "text": [
      "Epoch 1/4\n",
      "967/967 [==============================] - 3s 2ms/step - loss: 0.9599\n",
      "Epoch 2/4\n",
      "967/967 [==============================] - 2s 2ms/step - loss: 0.8867\n",
      "Epoch 3/4\n",
      "967/967 [==============================] - 2s 2ms/step - loss: 0.8600\n",
      "Epoch 4/4\n",
      "967/967 [==============================] - 2s 2ms/step - loss: 0.8476\n",
      "pred_trainw1.shape:  (30924, 3)\n",
      "pred_testw1.shape:  (2228, 3)\n",
      "y_testw1.shape:  (2228, 3)\n",
      "Epoch 1/4\n",
      "967/967 [==============================] - 2s 1ms/step - loss: 0.8719\n",
      "Epoch 2/4\n",
      "967/967 [==============================] - 1s 1ms/step - loss: 0.6049\n",
      "Epoch 3/4\n",
      "967/967 [==============================] - 1s 1ms/step - loss: 0.5771\n",
      "Epoch 4/4\n",
      "967/967 [==============================] - 1s 1ms/step - loss: 0.5706\n",
      "loaded:  trained_models/c/cnn_loso11.h5\n",
      "pred_trainw2.shape:  (30924, 3)\n",
      "pred_train.shape:  (30922, 3)\n",
      "pred_testw2.shape:  (2227, 3)\n",
      "pred_test.shape:  (2228, 3)\n",
      "subject  11\n",
      "chest accuracy:  0.9663375224416517\n",
      "chest f1 score:  0.9667199284966077\n",
      "\n",
      "loaded:  trained_models/c/cnn_all_loso11.h5\n",
      "============= test subject 13 ==================\n",
      "merged train: (30924, 5, 700) (30924, 3)\n",
      "merged test : (2226, 5, 700) (2226, 3)\n",
      "merged train: (30926, 1, 64) (30926, 3)\n",
      "merged test : (2226, 1, 64) (2226, 3)\n",
      "merged train: (30925, 2, 4) (30925, 3)\n",
      "merged test : (2226, 2, 4) (2226, 3)\n",
      "merged train: (30924, 8, 4) (30924, 3)\n",
      "merged test : (2226, 8, 4) (2226, 3)\n"
     ]
    },
    {
     "name": "stderr",
     "output_type": "stream",
     "text": [
      "C:\\Users\\srovi\\anaconda3\\lib\\site-packages\\tensorflow\\python\\keras\\optimizer_v2\\optimizer_v2.py:374: UserWarning: The `lr` argument is deprecated, use `learning_rate` instead.\n",
      "  warnings.warn(\n"
     ]
    },
    {
     "name": "stdout",
     "output_type": "stream",
     "text": [
      "Epoch 1/4\n",
      "967/967 [==============================] - 4s 2ms/step - loss: 0.9632\n",
      "Epoch 2/4\n",
      "967/967 [==============================] - 2s 2ms/step - loss: 0.8708\n",
      "Epoch 3/4\n",
      "967/967 [==============================] - 2s 2ms/step - loss: 0.8552\n",
      "Epoch 4/4\n",
      "967/967 [==============================] - 2s 2ms/step - loss: 0.8365\n",
      "pred_trainw1.shape:  (30926, 3)\n",
      "pred_testw1.shape:  (2226, 3)\n",
      "y_testw1.shape:  (2226, 3)\n",
      "Epoch 1/4\n",
      "967/967 [==============================] - 2s 1ms/step - loss: 1.0779\n",
      "Epoch 2/4\n",
      "967/967 [==============================] - 1s 1ms/step - loss: 0.7567\n",
      "Epoch 3/4\n",
      "967/967 [==============================] - 1s 1ms/step - loss: 0.6361\n",
      "Epoch 4/4\n",
      "967/967 [==============================] - 1s 1ms/step - loss: 0.5949\n",
      "loaded:  trained_models/c/cnn_loso13.h5\n",
      "pred_trainw2.shape:  (30925, 3)\n",
      "pred_train.shape:  (30924, 3)\n",
      "pred_testw2.shape:  (2226, 3)\n",
      "pred_test.shape:  (2226, 3)\n",
      "subject  13\n",
      "chest accuracy:  0.8113207547169812\n",
      "chest f1 score:  0.7440535052435233\n",
      "\n",
      "loaded:  trained_models/c/cnn_all_loso13.h5\n",
      "============= test subject 14 ==================\n",
      "merged train: (30923, 5, 700) (30923, 3)\n",
      "merged test : (2227, 5, 700) (2227, 3)\n",
      "merged train: (30925, 1, 64) (30925, 3)\n",
      "merged test : (2227, 1, 64) (2227, 3)\n",
      "merged train: (30924, 2, 4) (30924, 3)\n",
      "merged test : (2227, 2, 4) (2227, 3)\n",
      "merged train: (30923, 8, 4) (30923, 3)\n",
      "merged test : (2227, 8, 4) (2227, 3)\n"
     ]
    },
    {
     "name": "stderr",
     "output_type": "stream",
     "text": [
      "C:\\Users\\srovi\\anaconda3\\lib\\site-packages\\tensorflow\\python\\keras\\optimizer_v2\\optimizer_v2.py:374: UserWarning: The `lr` argument is deprecated, use `learning_rate` instead.\n",
      "  warnings.warn(\n"
     ]
    },
    {
     "name": "stdout",
     "output_type": "stream",
     "text": [
      "Epoch 1/4\n",
      "967/967 [==============================] - 3s 2ms/step - loss: 0.9653\n",
      "Epoch 2/4\n",
      "967/967 [==============================] - 2s 2ms/step - loss: 0.8928\n",
      "Epoch 3/4\n",
      "967/967 [==============================] - 2s 2ms/step - loss: 0.8747\n",
      "Epoch 4/4\n",
      "967/967 [==============================] - 1s 2ms/step - loss: 0.8575\n",
      "pred_trainw1.shape:  (30925, 3)\n",
      "pred_testw1.shape:  (2227, 3)\n",
      "y_testw1.shape:  (2227, 3)\n",
      "Epoch 1/4\n",
      "967/967 [==============================] - 2s 1ms/step - loss: 0.9116\n",
      "Epoch 2/4\n",
      "967/967 [==============================] - 1s 1ms/step - loss: 0.5764\n",
      "Epoch 3/4\n",
      "967/967 [==============================] - 1s 1ms/step - loss: 0.5424\n",
      "Epoch 4/4\n",
      "967/967 [==============================] - 1s 1ms/step - loss: 0.5282\n",
      "loaded:  trained_models/c/cnn_loso14.h5\n",
      "pred_trainw2.shape:  (30924, 3)\n",
      "pred_train.shape:  (30923, 3)\n",
      "pred_testw2.shape:  (2227, 3)\n",
      "pred_test.shape:  (2227, 3)\n",
      "subject  14\n",
      "chest accuracy:  0.7682981589582398\n",
      "chest f1 score:  0.7607208144426694\n",
      "\n",
      "loaded:  trained_models/c/cnn_all_loso14.h5\n",
      "============= test subject 15 ==================\n",
      "merged train: (30917, 5, 700) (30917, 3)\n",
      "merged test : (2233, 5, 700) (2233, 3)\n",
      "merged train: (30919, 1, 64) (30919, 3)\n",
      "merged test : (2233, 1, 64) (2233, 3)\n",
      "merged train: (30918, 2, 4) (30918, 3)\n",
      "merged test : (2233, 2, 4) (2233, 3)\n",
      "merged train: (30917, 8, 4) (30917, 3)\n",
      "merged test : (2233, 8, 4) (2233, 3)\n"
     ]
    },
    {
     "name": "stderr",
     "output_type": "stream",
     "text": [
      "C:\\Users\\srovi\\anaconda3\\lib\\site-packages\\tensorflow\\python\\keras\\optimizer_v2\\optimizer_v2.py:374: UserWarning: The `lr` argument is deprecated, use `learning_rate` instead.\n",
      "  warnings.warn(\n"
     ]
    },
    {
     "name": "stdout",
     "output_type": "stream",
     "text": [
      "Epoch 1/4\n",
      "967/967 [==============================] - 5s 2ms/step - loss: 0.9476\n",
      "Epoch 2/4\n",
      "967/967 [==============================] - 2s 2ms/step - loss: 0.8722\n",
      "Epoch 3/4\n",
      "967/967 [==============================] - 2s 2ms/step - loss: 0.8352\n",
      "Epoch 4/4\n",
      "967/967 [==============================] - 2s 2ms/step - loss: 0.8231\n",
      "pred_trainw1.shape:  (30919, 3)\n",
      "pred_testw1.shape:  (2233, 3)\n",
      "y_testw1.shape:  (2233, 3)\n",
      "Epoch 1/4\n",
      "967/967 [==============================] - 2s 1ms/step - loss: 1.0290\n",
      "Epoch 2/4\n",
      "967/967 [==============================] - 1s 1ms/step - loss: 0.7075\n",
      "Epoch 3/4\n",
      "967/967 [==============================] - 1s 1ms/step - loss: 0.6578\n",
      "Epoch 4/4\n",
      "967/967 [==============================] - 1s 1ms/step - loss: 0.6141\n",
      "loaded:  trained_models/c/cnn_loso15.h5\n",
      "pred_trainw2.shape:  (30918, 3)\n",
      "pred_train.shape:  (30917, 3)\n",
      "pred_testw2.shape:  (2233, 3)\n",
      "pred_test.shape:  (2233, 3)\n",
      "subject  15\n",
      "chest accuracy:  0.7617554858934169\n",
      "chest f1 score:  0.7244930428127334\n",
      "\n",
      "loaded:  trained_models/c/cnn_all_loso15.h5\n",
      "============= test subject 16 ==================\n",
      "merged train: (30929, 5, 700) (30929, 3)\n",
      "merged test : (2221, 5, 700) (2221, 3)\n",
      "merged train: (30931, 1, 64) (30931, 3)\n",
      "merged test : (2221, 1, 64) (2221, 3)\n",
      "merged train: (30930, 2, 4) (30930, 3)\n",
      "merged test : (2221, 2, 4) (2221, 3)\n",
      "merged train: (30929, 8, 4) (30929, 3)\n",
      "merged test : (2221, 8, 4) (2221, 3)\n"
     ]
    },
    {
     "name": "stderr",
     "output_type": "stream",
     "text": [
      "C:\\Users\\srovi\\anaconda3\\lib\\site-packages\\tensorflow\\python\\keras\\optimizer_v2\\optimizer_v2.py:374: UserWarning: The `lr` argument is deprecated, use `learning_rate` instead.\n",
      "  warnings.warn(\n"
     ]
    },
    {
     "name": "stdout",
     "output_type": "stream",
     "text": [
      "Epoch 1/4\n",
      "967/967 [==============================] - 5s 2ms/step - loss: 0.9644\n",
      "Epoch 2/4\n",
      "967/967 [==============================] - 2s 2ms/step - loss: 0.8779\n",
      "Epoch 3/4\n",
      "967/967 [==============================] - 2s 2ms/step - loss: 0.8620\n",
      "Epoch 4/4\n",
      "967/967 [==============================] - 2s 2ms/step - loss: 0.8473\n",
      "pred_trainw1.shape:  (30931, 3)\n",
      "pred_testw1.shape:  (2221, 3)\n",
      "y_testw1.shape:  (2221, 3)\n",
      "Epoch 1/4\n",
      "967/967 [==============================] - 2s 1ms/step - loss: 0.8102\n",
      "Epoch 2/4\n",
      "967/967 [==============================] - 1s 1ms/step - loss: 0.6118\n",
      "Epoch 3/4\n",
      "967/967 [==============================] - 1s 1ms/step - loss: 0.5746\n",
      "Epoch 4/4\n",
      "967/967 [==============================] - 1s 1ms/step - loss: 0.5447\n",
      "loaded:  trained_models/c/cnn_loso16.h5\n",
      "pred_trainw2.shape:  (30930, 3)\n",
      "pred_train.shape:  (30929, 3)\n",
      "pred_testw2.shape:  (2221, 3)\n",
      "pred_test.shape:  (2221, 3)\n",
      "subject  16\n",
      "chest accuracy:  0.9482215218370104\n",
      "chest f1 score:  0.9454650434193289\n",
      "\n",
      "loaded:  trained_models/c/cnn_all_loso16.h5\n",
      "============= test subject 17 ==================\n",
      "merged train: (30874, 5, 700) (30874, 3)\n",
      "merged test : (2276, 5, 700) (2276, 3)\n",
      "merged train: (30876, 1, 64) (30876, 3)\n",
      "merged test : (2276, 1, 64) (2276, 3)\n",
      "merged train: (30875, 2, 4) (30875, 3)\n",
      "merged test : (2276, 2, 4) (2276, 3)\n",
      "merged train: (30874, 8, 4) (30874, 3)\n",
      "merged test : (2276, 8, 4) (2276, 3)\n"
     ]
    },
    {
     "name": "stderr",
     "output_type": "stream",
     "text": [
      "C:\\Users\\srovi\\anaconda3\\lib\\site-packages\\tensorflow\\python\\keras\\optimizer_v2\\optimizer_v2.py:374: UserWarning: The `lr` argument is deprecated, use `learning_rate` instead.\n",
      "  warnings.warn(\n"
     ]
    },
    {
     "name": "stdout",
     "output_type": "stream",
     "text": [
      "Epoch 1/4\n",
      "965/965 [==============================] - 4s 2ms/step - loss: 0.9522\n",
      "Epoch 2/4\n",
      "965/965 [==============================] - 2s 2ms/step - loss: 0.8943\n",
      "Epoch 3/4\n",
      "965/965 [==============================] - 2s 2ms/step - loss: 0.8641\n",
      "Epoch 4/4\n",
      "965/965 [==============================] - 2s 2ms/step - loss: 0.8524\n",
      "pred_trainw1.shape:  (30876, 3)\n",
      "pred_testw1.shape:  (2276, 3)\n",
      "y_testw1.shape:  (2276, 3)\n",
      "Epoch 1/4\n",
      "965/965 [==============================] - 4s 1ms/step - loss: 0.9310\n",
      "Epoch 2/4\n",
      "965/965 [==============================] - 1s 1ms/step - loss: 0.5892\n",
      "Epoch 3/4\n",
      "965/965 [==============================] - 1s 1ms/step - loss: 0.5406\n",
      "Epoch 4/4\n",
      "965/965 [==============================] - 1s 1ms/step - loss: 0.5236\n",
      "loaded:  trained_models/c/cnn_loso17.h5\n",
      "pred_trainw2.shape:  (30875, 3)\n",
      "pred_train.shape:  (30874, 3)\n",
      "pred_testw2.shape:  (2276, 3)\n",
      "pred_test.shape:  (2276, 3)\n",
      "subject  17\n",
      "chest accuracy:  0.820738137082601\n",
      "chest f1 score:  0.7792669714604291\n",
      "\n",
      "loaded:  trained_models/c/cnn_all_loso17.h5\n"
     ]
    }
   ],
   "source": [
    "cnn_m = cnn_model ()\n",
    "cnn_m.train_model_all (df)\n",
    "s, s1, s2, s3 = cnn_m.test_model(df)"
   ]
  },
  {
   "cell_type": "code",
   "execution_count": 25,
   "metadata": {},
   "outputs": [
    {
     "data": {
      "text/plain": [
       "0.7946811467383398"
      ]
     },
     "execution_count": 25,
     "metadata": {},
     "output_type": "execute_result"
    }
   ],
   "source": [
    "np.array(s)[:,1].mean() #accuracy chest"
   ]
  },
  {
   "cell_type": "code",
   "execution_count": 26,
   "metadata": {},
   "outputs": [
    {
     "data": {
      "text/plain": [
       "0.12262566864558332"
      ]
     },
     "execution_count": 26,
     "metadata": {},
     "output_type": "execute_result"
    }
   ],
   "source": [
    "np.array(s)[:,1].std()"
   ]
  },
  {
   "cell_type": "code",
   "execution_count": 27,
   "metadata": {},
   "outputs": [
    {
     "data": {
      "text/plain": [
       "0.7839396297390945"
      ]
     },
     "execution_count": 27,
     "metadata": {},
     "output_type": "execute_result"
    }
   ],
   "source": [
    "np.array(s)[:,2].mean() #f1-score chest"
   ]
  },
  {
   "cell_type": "code",
   "execution_count": 28,
   "metadata": {},
   "outputs": [
    {
     "data": {
      "text/plain": [
       "0.11805498477846282"
      ]
     },
     "execution_count": 28,
     "metadata": {},
     "output_type": "execute_result"
    }
   ],
   "source": [
    "np.array(s)[:,2].std()"
   ]
  },
  {
   "cell_type": "code",
   "execution_count": 29,
   "metadata": {},
   "outputs": [
    {
     "data": {
      "text/plain": [
       "0.5750948184244862"
      ]
     },
     "execution_count": 29,
     "metadata": {},
     "output_type": "execute_result"
    }
   ],
   "source": [
    "np.array(s1)[:,1].mean() #accuracy wrist BVP"
   ]
  },
  {
   "cell_type": "code",
   "execution_count": 30,
   "metadata": {},
   "outputs": [
    {
     "data": {
      "text/plain": [
       "0.10188267321739736"
      ]
     },
     "execution_count": 30,
     "metadata": {},
     "output_type": "execute_result"
    }
   ],
   "source": [
    "np.array(s1)[:,1].std()"
   ]
  },
  {
   "cell_type": "code",
   "execution_count": 31,
   "metadata": {},
   "outputs": [
    {
     "data": {
      "text/plain": [
       "0.5236772655601138"
      ]
     },
     "execution_count": 31,
     "metadata": {},
     "output_type": "execute_result"
    }
   ],
   "source": [
    "np.array(s1)[:,2].mean() #f1-score wrist BVP"
   ]
  },
  {
   "cell_type": "code",
   "execution_count": 32,
   "metadata": {},
   "outputs": [
    {
     "data": {
      "text/plain": [
       "0.08797760311046976"
      ]
     },
     "execution_count": 32,
     "metadata": {},
     "output_type": "execute_result"
    }
   ],
   "source": [
    "np.array(s1)[:,2].std()"
   ]
  },
  {
   "cell_type": "code",
   "execution_count": 33,
   "metadata": {},
   "outputs": [
    {
     "data": {
      "text/plain": [
       "0.698523570072321"
      ]
     },
     "execution_count": 33,
     "metadata": {},
     "output_type": "execute_result"
    }
   ],
   "source": [
    "np.array(s2)[:,1].mean() #accuracy wrist EDA, TEMP"
   ]
  },
  {
   "cell_type": "code",
   "execution_count": 34,
   "metadata": {},
   "outputs": [
    {
     "data": {
      "text/plain": [
       "0.17514120994796814"
      ]
     },
     "execution_count": 34,
     "metadata": {},
     "output_type": "execute_result"
    }
   ],
   "source": [
    "np.array(s2)[:,1].std()"
   ]
  },
  {
   "cell_type": "code",
   "execution_count": 35,
   "metadata": {},
   "outputs": [
    {
     "data": {
      "text/plain": [
       "0.6544770623778784"
      ]
     },
     "execution_count": 35,
     "metadata": {},
     "output_type": "execute_result"
    }
   ],
   "source": [
    "np.array(s2)[:,2].mean() #f1-score wrist EDA, TEMP"
   ]
  },
  {
   "cell_type": "code",
   "execution_count": 36,
   "metadata": {},
   "outputs": [
    {
     "data": {
      "text/plain": [
       "0.16938917978062748"
      ]
     },
     "execution_count": 36,
     "metadata": {},
     "output_type": "execute_result"
    }
   ],
   "source": [
    "np.array(s2)[:,2].std()"
   ]
  },
  {
   "cell_type": "code",
   "execution_count": 38,
   "metadata": {},
   "outputs": [
    {
     "data": {
      "text/plain": [
       "0.8382879539468207"
      ]
     },
     "execution_count": 38,
     "metadata": {},
     "output_type": "execute_result"
    }
   ],
   "source": [
    "np.array(s3)[:,1].mean() #accuracy all modalities combined"
   ]
  },
  {
   "cell_type": "code",
   "execution_count": 39,
   "metadata": {},
   "outputs": [
    {
     "data": {
      "text/plain": [
       "0.14296138686270235"
      ]
     },
     "execution_count": 39,
     "metadata": {},
     "output_type": "execute_result"
    }
   ],
   "source": [
    "np.array(s3)[:,1].std()"
   ]
  },
  {
   "cell_type": "code",
   "execution_count": 40,
   "metadata": {},
   "outputs": [
    {
     "data": {
      "text/plain": [
       "0.825644619440786"
      ]
     },
     "execution_count": 40,
     "metadata": {},
     "output_type": "execute_result"
    }
   ],
   "source": [
    "np.array(s3)[:,2].mean() #f1-score all"
   ]
  },
  {
   "cell_type": "code",
   "execution_count": 41,
   "metadata": {},
   "outputs": [
    {
     "data": {
      "text/plain": [
       "0.11805498477846282"
      ]
     },
     "execution_count": 41,
     "metadata": {},
     "output_type": "execute_result"
    }
   ],
   "source": [
    "np.array(s)[:,2].std()"
   ]
  },
  {
   "cell_type": "code",
   "execution_count": null,
   "metadata": {},
   "outputs": [],
   "source": []
  }
 ],
 "metadata": {
  "kernelspec": {
   "display_name": "Python 3",
   "language": "python",
   "name": "python3"
  },
  "language_info": {
   "codemirror_mode": {
    "name": "ipython",
    "version": 3
   },
   "file_extension": ".py",
   "mimetype": "text/x-python",
   "name": "python",
   "nbconvert_exporter": "python",
   "pygments_lexer": "ipython3",
   "version": "3.10.6"
  },
  "vscode": {
   "interpreter": {
    "hash": "3b8214bdbcddfe95913c8e726854c2e6f782bd26473edb6d5d1c1ac13615c051"
   }
  }
 },
 "nbformat": 4,
 "nbformat_minor": 4
}
